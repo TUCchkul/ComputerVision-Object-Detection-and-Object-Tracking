{
 "cells": [
  {
   "cell_type": "code",
   "execution_count": 1,
   "id": "3d8eee88",
   "metadata": {},
   "outputs": [],
   "source": [
    "import os\n"
   ]
  },
  {
   "cell_type": "code",
   "execution_count": 2,
   "id": "04b39a13",
   "metadata": {},
   "outputs": [],
   "source": [
    "ZIPFILE=\"./hymenoptera_data .zip\""
   ]
  },
  {
   "cell_type": "code",
   "execution_count": 3,
   "id": "028ff8a6",
   "metadata": {},
   "outputs": [],
   "source": [
    "from zipfile import ZipFile"
   ]
  },
  {
   "cell_type": "code",
   "execution_count": 4,
   "id": "8d4a9a5a",
   "metadata": {},
   "outputs": [],
   "source": [
    "with ZipFile(ZIPFILE) as f:\n",
    "    f.extractall()"
   ]
  },
  {
   "cell_type": "code",
   "execution_count": 7,
   "id": "2cbce54f",
   "metadata": {},
   "outputs": [],
   "source": [
    "import torch\n",
    "import torch.nn as nn\n",
    "import torch.optim as optim\n",
    "from torch.optim import lr_scheduler\n",
    "import numpy as np\n",
    "import torchvision\n",
    "from torchvision import datasets, models, transforms\n",
    "import matplotlib.pyplot as plt\n",
    "import time\n",
    "import copy"
   ]
  },
  {
   "cell_type": "code",
   "execution_count": 8,
   "id": "7e95851d",
   "metadata": {},
   "outputs": [],
   "source": [
    "data_dir=\"./hymenoptera_data\""
   ]
  },
  {
   "cell_type": "code",
   "execution_count": 11,
   "id": "da9db87f",
   "metadata": {},
   "outputs": [],
   "source": [
    "# transform\n",
    "\n",
    "data_transform={\n",
    "    \"train\":transforms.Compose([transforms.RandomResizedCrop(224),\n",
    "                               transforms.RandomHorizontalFlip(),\n",
    "                               transforms.ToTensor()\n",
    "                    ]),\n",
    "    \"val\":transforms.Compose([transforms.Resize(256),\n",
    "                               transforms.CenterCrop(224),\n",
    "                               transforms.ToTensor()])\n",
    "}"
   ]
  },
  {
   "cell_type": "code",
   "execution_count": 13,
   "id": "49d14f8c",
   "metadata": {},
   "outputs": [],
   "source": [
    "image_dataset={\n",
    "    \"train\":datasets.ImageFolder(os.path.join(data_dir,\"train\")),\n",
    "    \n",
    "    \"val\":datasets.ImageFolder(os.path.join(data_dir,\"val\"))\n",
    "}"
   ]
  },
  {
   "cell_type": "code",
   "execution_count": 14,
   "id": "08b87dec",
   "metadata": {},
   "outputs": [],
   "source": [
    "dataloader={\n",
    "    \"train\":torch.utils.data.DataLoader(image_dataset[\"train\"], batch_size=4, shuffle=True,num_workers=4),\n",
    "    \n",
    "    \"val\":torch.utils.data.DataLoader(image_dataset[\"val\"], batch_size=4, shuffle=True,num_workers=4)\n",
    "}"
   ]
  },
  {
   "cell_type": "code",
   "execution_count": 16,
   "id": "1e0eb16a",
   "metadata": {},
   "outputs": [
    {
     "data": {
      "text/plain": [
       "{'train': 244, 'val': 153}"
      ]
     },
     "execution_count": 16,
     "metadata": {},
     "output_type": "execute_result"
    }
   ],
   "source": [
    "data_sizes={\n",
    "    \"train\":len(image_dataset[\"train\"]),\n",
    "    \"val\":len(image_dataset[\"val\"])\n",
    "}\n",
    "data_sizes"
   ]
  },
  {
   "cell_type": "code",
   "execution_count": 17,
   "id": "27713f08",
   "metadata": {},
   "outputs": [],
   "source": [
    "class_names=image_dataset[\"train\"].classes"
   ]
  },
  {
   "cell_type": "code",
   "execution_count": 18,
   "id": "5ef298a7",
   "metadata": {},
   "outputs": [
    {
     "data": {
      "text/plain": [
       "['ants', 'bees']"
      ]
     },
     "execution_count": 18,
     "metadata": {},
     "output_type": "execute_result"
    }
   ],
   "source": [
    "class_names"
   ]
  },
  {
   "cell_type": "code",
   "execution_count": null,
   "id": "6538e403",
   "metadata": {},
   "outputs": [],
   "source": []
  }
 ],
 "metadata": {
  "kernelspec": {
   "display_name": "Python 3 (ipykernel)",
   "language": "python",
   "name": "python3"
  },
  "language_info": {
   "codemirror_mode": {
    "name": "ipython",
    "version": 3
   },
   "file_extension": ".py",
   "mimetype": "text/x-python",
   "name": "python",
   "nbconvert_exporter": "python",
   "pygments_lexer": "ipython3",
   "version": "3.7.0"
  }
 },
 "nbformat": 4,
 "nbformat_minor": 5
}
