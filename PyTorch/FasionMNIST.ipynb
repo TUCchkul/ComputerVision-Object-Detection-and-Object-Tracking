{
 "cells": [
  {
   "cell_type": "code",
   "execution_count": 2,
   "id": "8ddd1294",
   "metadata": {},
   "outputs": [],
   "source": [
    "import torch\n",
    "from torch import nn\n",
    "import torchvision\n",
    "import matplotlib.pyplot as plt"
   ]
  },
  {
   "cell_type": "code",
   "execution_count": 3,
   "id": "b91d07c5",
   "metadata": {},
   "outputs": [],
   "source": [
    "DATA_ROOT_DIR=\"FashionMnist\""
   ]
  },
  {
   "cell_type": "code",
   "execution_count": 4,
   "id": "654394d6",
   "metadata": {},
   "outputs": [
    {
     "name": "stdout",
     "output_type": "stream",
     "text": [
      "Downloading http://fashion-mnist.s3-website.eu-central-1.amazonaws.com/train-images-idx3-ubyte.gz\n",
      "Downloading http://fashion-mnist.s3-website.eu-central-1.amazonaws.com/train-images-idx3-ubyte.gz to FashionMnist\\FashionMNIST\\raw\\train-images-idx3-ubyte.gz\n"
     ]
    },
    {
     "name": "stderr",
     "output_type": "stream",
     "text": [
      "100.0%\n"
     ]
    },
    {
     "name": "stdout",
     "output_type": "stream",
     "text": [
      "Extracting FashionMnist\\FashionMNIST\\raw\\train-images-idx3-ubyte.gz to FashionMnist\\FashionMNIST\\raw\n",
      "\n",
      "Downloading http://fashion-mnist.s3-website.eu-central-1.amazonaws.com/train-labels-idx1-ubyte.gz\n",
      "Downloading http://fashion-mnist.s3-website.eu-central-1.amazonaws.com/train-labels-idx1-ubyte.gz to FashionMnist\\FashionMNIST\\raw\\train-labels-idx1-ubyte.gz\n"
     ]
    },
    {
     "name": "stderr",
     "output_type": "stream",
     "text": [
      "100.6%\n",
      "0.0%"
     ]
    },
    {
     "name": "stdout",
     "output_type": "stream",
     "text": [
      "Extracting FashionMnist\\FashionMNIST\\raw\\train-labels-idx1-ubyte.gz to FashionMnist\\FashionMNIST\\raw\n",
      "\n",
      "Downloading http://fashion-mnist.s3-website.eu-central-1.amazonaws.com/t10k-images-idx3-ubyte.gz\n",
      "Downloading http://fashion-mnist.s3-website.eu-central-1.amazonaws.com/t10k-images-idx3-ubyte.gz to FashionMnist\\FashionMNIST\\raw\\t10k-images-idx3-ubyte.gz\n"
     ]
    },
    {
     "name": "stderr",
     "output_type": "stream",
     "text": [
      "74.8%"
     ]
    }
   ],
   "source": [
    "train_data=torchvision.datasets.FashionMNIST(\n",
    "root=DATA_ROOT_DIR,\n",
    "train=True,\n",
    "download=True,\n",
    "transform=torchvision.transforms.ToTensor(),)\n",
    "test_data=torchvision.datasets.FashionMNIST(\n",
    "root=DATA_ROOT_DIR,\n",
    "train=False,\n",
    "download=True,\n",
    "transform=torchvision.transform.ToTensor(),)"
   ]
  },
  {
   "cell_type": "code",
   "execution_count": null,
   "id": "dd03441d",
   "metadata": {},
   "outputs": [],
   "source": []
  }
 ],
 "metadata": {
  "kernelspec": {
   "display_name": "Python 3 (ipykernel)",
   "language": "python",
   "name": "python3"
  },
  "language_info": {
   "codemirror_mode": {
    "name": "ipython",
    "version": 3
   },
   "file_extension": ".py",
   "mimetype": "text/x-python",
   "name": "python",
   "nbconvert_exporter": "python",
   "pygments_lexer": "ipython3",
   "version": "3.7.0"
  }
 },
 "nbformat": 4,
 "nbformat_minor": 5
}
