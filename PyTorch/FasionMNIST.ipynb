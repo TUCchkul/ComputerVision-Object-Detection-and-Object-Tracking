{
 "cells": [
  {
   "cell_type": "code",
   "execution_count": 2,
   "id": "7e3c524f",
   "metadata": {},
   "outputs": [],
   "source": [
    "import torch\n",
    "from torch import nn\n",
    "import torchvision\n",
    "import matplotlib.pyplot as plt"
   ]
  },
  {
   "cell_type": "code",
   "execution_count": 3,
   "id": "6e1a9324",
   "metadata": {},
   "outputs": [],
   "source": [
    "DATA_ROOT_DIR=\"FashionMnist\""
   ]
  },
  {
   "cell_type": "code",
   "execution_count": 5,
   "id": "b7ed7b6f",
   "metadata": {},
   "outputs": [],
   "source": [
    "train_data=torchvision.datasets.FashionMNIST(\n",
    "root=DATA_ROOT_DIR,\n",
    "train=True,\n",
    "download=True,\n",
    "transform=torchvision.transforms.ToTensor(),)\n",
    "test_data=torchvision.datasets.FashionMNIST(\n",
    "root=DATA_ROOT_DIR,\n",
    "train=False,\n",
    "download=True,\n",
    "transform=torchvision.transforms.ToTensor(),)"
   ]
  },
  {
   "cell_type": "code",
   "execution_count": 6,
   "id": "0b6af16c",
   "metadata": {},
   "outputs": [],
   "source": [
    "BATCH_SIZE=64\n",
    "train_data_loader=torch.utils.data.DataLoader(train_data, batch_size=BATCH_SIZE)\n",
    "test_data_loader=torch.utils.data.DataLoader(test_data, batch_size=BATCH_SIZE)"
   ]
  },
  {
   "cell_type": "code",
   "execution_count": 12,
   "id": "700638fd",
   "metadata": {},
   "outputs": [
    {
     "data": {
      "text/plain": [
       "torch.utils.data.dataloader.DataLoader"
      ]
     },
     "execution_count": 12,
     "metadata": {},
     "output_type": "execute_result"
    }
   ],
   "source": [
    "type(train_data_loader)"
   ]
  },
  {
   "cell_type": "code",
   "execution_count": 10,
   "id": "00fbd394",
   "metadata": {},
   "outputs": [
    {
     "name": "stdout",
     "output_type": "stream",
     "text": [
      "torch.Size([64, 1, 28, 28])\n",
      "torch.Size([64]) torch.int64 tensor([0, 1, 2, 3, 4, 5, 6, 7, 8, 9])\n"
     ]
    }
   ],
   "source": [
    "for X,y in test_data_loader:\n",
    "    print(X.shape)\n",
    "    print(y.shape, y.dtype, torch.unique(y))\n",
    "    break"
   ]
  },
  {
   "cell_type": "code",
   "execution_count": 11,
   "id": "bc9ccb57",
   "metadata": {},
   "outputs": [
    {
     "data": {
      "text/plain": [
       "'cpu'"
      ]
     },
     "execution_count": 11,
     "metadata": {},
     "output_type": "execute_result"
    }
   ],
   "source": [
    "device=\"cuda\" if torch.cuda.is_available() else \"cpu\"\n",
    "device"
   ]
  },
  {
   "cell_type": "code",
   "execution_count": 26,
   "id": "fb1c338e",
   "metadata": {},
   "outputs": [],
   "source": [
    "class NeuralNetwork(nn.Module):\n",
    "    def __init__(self):\n",
    "        super(NeuralNetwork, self).__init__()\n",
    "        self.flatten=nn.Flatten()\n",
    "        self.linear_relu_stack=nn.Sequential(\n",
    "        nn.Linear(28*28, 512),\n",
    "        nn.ReLU(),\n",
    "        nn.Linear(512, 512),\n",
    "        nn.ReLU(),\n",
    "        nn.Linear(512,10),\n",
    "        nn.ReLU(),\n",
    "        )\n",
    "    def forward(self, X): # forward propagation\n",
    "        X=self.flatten(X)\n",
    "        logits=self.linear_relu_stack(X)\n",
    "        return logits"
   ]
  },
  {
   "cell_type": "code",
   "execution_count": 28,
   "id": "0dd045a6",
   "metadata": {},
   "outputs": [
    {
     "name": "stdout",
     "output_type": "stream",
     "text": [
      "NeuralNetwork(\n",
      "  (flatten): Flatten(start_dim=1, end_dim=-1)\n",
      "  (linear_relu_stack): Sequential(\n",
      "    (0): Linear(in_features=784, out_features=512, bias=True)\n",
      "    (1): ReLU()\n",
      "    (2): Linear(in_features=512, out_features=512, bias=True)\n",
      "    (3): ReLU()\n",
      "    (4): Linear(in_features=512, out_features=10, bias=True)\n",
      "    (5): ReLU()\n",
      "  )\n",
      ")\n"
     ]
    }
   ],
   "source": [
    "model=NeuralNetwork().to(device)\n",
    "print(model)"
   ]
  },
  {
   "cell_type": "code",
   "execution_count": 29,
   "id": "670e9b77",
   "metadata": {},
   "outputs": [],
   "source": [
    "loss_fn=nn.CrossEntropyLoss()\n",
    "optimizer=torch.optim.SGD(model.parameters(), lr=1e-3)"
   ]
  },
  {
   "cell_type": "code",
   "execution_count": 34,
   "id": "033e8f97",
   "metadata": {},
   "outputs": [
    {
     "data": {
      "text/plain": [
       "'def train(dataloader, model, loss_fn, optimizer):\\n    size=len(dataloader.dataset)\\n    for batch, (X,y) in enumerate(dataloader):\\n        X,y=X.to(device), y.to(device)\\n        # calculate error or loss value\\n        pred=model(X)\\n        loss=loss_fn(pred, y)\\n        \\n        # BackPropagation\\n        optimizer.zero_grad()\\n        loss.backword()\\n        optimizer.step()\\n        if batch %100==0:\\n            loss, current=loss.item(), batch*len(X)\\n            print(f\"loss: {loss}[{current}/{size}]\")'"
      ]
     },
     "execution_count": 34,
     "metadata": {},
     "output_type": "execute_result"
    }
   ],
   "source": [
    "\"\"\"def train(dataloader, model, loss_fn, optimizer):\n",
    "    size=len(dataloader.dataset)\n",
    "    for batch, (X,y) in enumerate(dataloader):\n",
    "        X,y=X.to(device), y.to(device)\n",
    "        # calculate error or loss value\n",
    "        pred=model(X)\n",
    "        loss=loss_fn(pred, y)\n",
    "        \n",
    "        # BackPropagation\n",
    "        optimizer.zero_grad()\n",
    "        loss.backword()\n",
    "        optimizer.step()\n",
    "        if batch %100==0:\n",
    "            loss, current=loss.item(), batch*len(X)\n",
    "            print(f\"loss: {loss}[{current}/{size}]\")\"\"\""
   ]
  },
  {
   "cell_type": "code",
   "execution_count": 35,
   "id": "74c14ef1",
   "metadata": {},
   "outputs": [],
   "source": [
    "def train(dataloader, model, loss_fn, optimzer):\n",
    "  size = len(dataloader.dataset)\n",
    "\n",
    "  for batch, (X, y) in enumerate(dataloader):\n",
    "    X, y = X.to(device), y.to(device)\n",
    "\n",
    "    # calculate error\n",
    "    pred = model(X)\n",
    "    loss = loss_fn(pred, y)\n",
    "\n",
    "    # Backpropagation\n",
    "    optimzer.zero_grad()\n",
    "    loss.backward()\n",
    "    optimizer.step()\n",
    "\n",
    "    if batch % 100 == 0:\n",
    "      loss, current = loss.item(), batch * len(X)\n",
    "      print(f\"training loss: {loss} [{current}/{size}]\")"
   ]
  },
  {
   "cell_type": "code",
   "execution_count": 36,
   "id": "92b0cadc",
   "metadata": {},
   "outputs": [],
   "source": [
    "def test(dataloader, model):\n",
    "    size=len(dataloader.dataset)\n",
    "    model.eval()\n",
    "    test_loss, correct=0,0\n",
    "    with torch.no_grad():\n",
    "        for X,y in dataloader:\n",
    "            X,y=X.to(device), y.to(device)\n",
    "            pred=model(X)\n",
    "            test_loss=test_loss+ loss_fn(pred,y).item()\n",
    "            correct=correct+(pred.argmax(1)==y).type(torch.float).sum().item()\n",
    "        test_loss=test_loss/size\n",
    "        correct=correct/size\n",
    "        print(f\"Test error: {100*correct}, average loss: {test_loss}\")"
   ]
  },
  {
   "cell_type": "code",
   "execution_count": 38,
   "id": "d0ec27d9",
   "metadata": {},
   "outputs": [
    {
     "name": "stdout",
     "output_type": "stream",
     "text": [
      "EPOCH: 1\n",
      "----------\n",
      "training loss: 2.095754861831665 [0/60000]\n",
      "training loss: 2.040386915206909 [6400/60000]\n",
      "training loss: 1.9379444122314453 [12800/60000]\n",
      "training loss: 1.99297297000885 [19200/60000]\n",
      "training loss: 1.9477033615112305 [25600/60000]\n",
      "training loss: 2.0026211738586426 [32000/60000]\n",
      "training loss: 2.012639284133911 [38400/60000]\n",
      "training loss: 1.9635835886001587 [44800/60000]\n",
      "training loss: 2.0200419425964355 [51200/60000]\n",
      "training loss: 2.0333521366119385 [57600/60000]\n",
      "Test error: 39.989999999999995, average loss: 0.03020854287147522\n",
      "EPOCH: 2\n",
      "----------\n",
      "training loss: 1.9798823595046997 [0/60000]\n",
      "training loss: 1.9020881652832031 [6400/60000]\n",
      "training loss: 1.7650812864303589 [12800/60000]\n",
      "training loss: 1.8536791801452637 [19200/60000]\n",
      "training loss: 1.8026074171066284 [25600/60000]\n",
      "training loss: 1.8916456699371338 [32000/60000]\n",
      "training loss: 1.9051045179367065 [38400/60000]\n",
      "training loss: 1.85727858543396 [44800/60000]\n",
      "training loss: 1.9294841289520264 [51200/60000]\n",
      "training loss: 1.9524143934249878 [57600/60000]\n",
      "Test error: 44.81, average loss: 0.028466863334178926\n",
      "EPOCH: 3\n",
      "----------\n",
      "training loss: 1.8808833360671997 [0/60000]\n",
      "training loss: 1.7931880950927734 [6400/60000]\n",
      "training loss: 1.6320387125015259 [12800/60000]\n",
      "training loss: 1.748349905014038 [19200/60000]\n",
      "training loss: 1.6900891065597534 [25600/60000]\n",
      "training loss: 1.8099818229675293 [32000/60000]\n",
      "training loss: 1.8256652355194092 [38400/60000]\n",
      "training loss: 1.7807632684707642 [44800/60000]\n",
      "training loss: 1.8526959419250488 [51200/60000]\n",
      "training loss: 1.8935707807540894 [57600/60000]\n",
      "Test error: 47.61, average loss: 0.027153735077381135\n",
      "done\n"
     ]
    }
   ],
   "source": [
    "EPOCHS=3\n",
    "for epoch in range(EPOCHS):\n",
    "    print(f\"EPOCH: {epoch +1}\\n----------\")\n",
    "    train(train_data_loader, model, loss_fn, optimizer)\n",
    "    test(test_data_loader,model)\n",
    "print(\"done\")"
   ]
  },
  {
   "cell_type": "code",
   "execution_count": 39,
   "id": "a42fd1ad",
   "metadata": {},
   "outputs": [],
   "source": [
    "torch.save(model,\"model.pth\")"
   ]
  },
  {
   "cell_type": "code",
   "execution_count": 45,
   "id": "883f6217",
   "metadata": {},
   "outputs": [
    {
     "ename": "IndexError",
     "evalue": "tuple index out of range",
     "output_type": "error",
     "traceback": [
      "\u001b[1;31m---------------------------------------------------------------------------\u001b[0m",
      "\u001b[1;31mIndexError\u001b[0m                                Traceback (most recent call last)",
      "\u001b[1;32m~\\AppData\\Local\\Temp\\ipykernel_5812\\2769837519.py\u001b[0m in \u001b[0;36m<module>\u001b[1;34m\u001b[0m\n\u001b[0;32m     12\u001b[0m ]\n\u001b[0;32m     13\u001b[0m \u001b[0mmodel\u001b[0m\u001b[1;33m.\u001b[0m\u001b[0meval\u001b[0m\u001b[1;33m(\u001b[0m\u001b[1;33m)\u001b[0m\u001b[1;33m\u001b[0m\u001b[0m\n\u001b[1;32m---> 14\u001b[1;33m \u001b[0mX\u001b[0m\u001b[1;33m,\u001b[0m \u001b[0my\u001b[0m \u001b[1;33m=\u001b[0m \u001b[0mtorch\u001b[0m\u001b[1;33m.\u001b[0m\u001b[0mtensor\u001b[0m\u001b[1;33m(\u001b[0m\u001b[0mtest_data\u001b[0m\u001b[1;33m[\u001b[0m\u001b[1;36m1\u001b[0m\u001b[1;33m]\u001b[0m\u001b[1;33m[\u001b[0m\u001b[1;36m2\u001b[0m\u001b[1;33m]\u001b[0m\u001b[1;33m)\u001b[0m\u001b[1;33m.\u001b[0m\u001b[0mto\u001b[0m\u001b[1;33m(\u001b[0m\u001b[0mdevice\u001b[0m\u001b[1;33m)\u001b[0m\u001b[1;33m,\u001b[0m \u001b[0mtorch\u001b[0m\u001b[1;33m.\u001b[0m\u001b[0mtensor\u001b[0m\u001b[1;33m(\u001b[0m\u001b[0mtest_data\u001b[0m\u001b[1;33m[\u001b[0m\u001b[1;36m1\u001b[0m\u001b[1;33m]\u001b[0m\u001b[1;33m[\u001b[0m\u001b[1;36m2\u001b[0m\u001b[1;33m]\u001b[0m\u001b[1;33m)\u001b[0m\u001b[1;33m.\u001b[0m\u001b[0mto\u001b[0m\u001b[1;33m(\u001b[0m\u001b[0mdevice\u001b[0m\u001b[1;33m)\u001b[0m\u001b[1;33m\u001b[0m\u001b[0m\n\u001b[0m\u001b[0;32m     15\u001b[0m \u001b[1;33m\u001b[0m\u001b[0m\n\u001b[0;32m     16\u001b[0m \u001b[1;32mwith\u001b[0m \u001b[0mtorch\u001b[0m\u001b[1;33m.\u001b[0m\u001b[0mno_grad\u001b[0m\u001b[1;33m(\u001b[0m\u001b[1;33m)\u001b[0m\u001b[1;33m:\u001b[0m\u001b[1;33m\u001b[0m\u001b[0m\n",
      "\u001b[1;31mIndexError\u001b[0m: tuple index out of range"
     ]
    }
   ],
   "source": [
    "classes=[\n",
    "    \"T-shirt/top\",\n",
    "    \"Trouser\",\n",
    "    \"Pullover\",\n",
    "    \"Dress\",\n",
    "    \"Coat\",\n",
    "    \"Sandal\",\n",
    "    \"Shirt\",\n",
    "    \"Sneaker\",\n",
    "    \"Bag\",\n",
    "    \"Ankle boot\",\n",
    "]\n",
    "model.eval()\n",
    "X, y = torch.tensor(test_data[1][2]).to(device), torch.tensor(test_data[1][2]).to(device)\n",
    "\n",
    "with torch.no_grad():\n",
    "  pred = model(X)\n",
    "  predicted, actual = classes[pred[0].argmax(0)], classes[y]\n",
    "  print(predicted, actual)"
   ]
  },
  {
   "cell_type": "code",
   "execution_count": null,
   "id": "83c4795e",
   "metadata": {},
   "outputs": [],
   "source": []
  }
 ],
 "metadata": {
  "kernelspec": {
   "display_name": "Python 3 (ipykernel)",
   "language": "python",
   "name": "python3"
  },
  "language_info": {
   "codemirror_mode": {
    "name": "ipython",
    "version": 3
   },
   "file_extension": ".py",
   "mimetype": "text/x-python",
   "name": "python",
   "nbconvert_exporter": "python",
   "pygments_lexer": "ipython3",
   "version": "3.7.0"
  }
 },
 "nbformat": 4,
 "nbformat_minor": 5
}
