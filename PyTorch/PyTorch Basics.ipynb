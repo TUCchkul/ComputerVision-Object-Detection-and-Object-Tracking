{
 "cells": [
  {
   "cell_type": "code",
   "execution_count": 3,
   "id": "e34b9880",
   "metadata": {},
   "outputs": [],
   "source": [
    "import tensorflow as tf"
   ]
  },
  {
   "cell_type": "code",
   "execution_count": null,
   "id": "d1c3fce3",
   "metadata": {},
   "outputs": [],
   "source": [
    "#conda install pytorch torchvision torchaudio cudatoolkit=10.2 -c pytorch"
   ]
  },
  {
   "cell_type": "markdown",
   "id": "98eeb9b2",
   "metadata": {},
   "source": [
    "# Tensors\n",
    " A kind of data structure -> multidimentional arrays or metrics with tensor you can encode all your parameters"
   ]
  },
  {
   "cell_type": "code",
   "execution_count": 1,
   "id": "235559e1",
   "metadata": {},
   "outputs": [
    {
     "name": "stdout",
     "output_type": "stream",
     "text": [
      "Collecting package metadata (current_repodata.json): ...working... done\n",
      "Solving environment: ...working... failed with initial frozen solve. Retrying with flexible solve.\n",
      "Solving environment: ...working... failed with repodata from current_repodata.json, will retry with next repodata source.\n",
      "Collecting package metadata (repodata.json): ...working... done\n",
      "Solving environment: ...working... done\n",
      "\n",
      "## Package Plan ##\n",
      "\n",
      "  environment location: D:\\DLCVANLP\\ComputerVision-ObjectDetection\\env\n",
      "\n",
      "  added / updated specs:\n",
      "    - cpuonly\n",
      "    - pytorch\n",
      "    - torchaudio\n",
      "    - torchvision\n",
      "\n",
      "\n",
      "The following packages will be downloaded:\n",
      "\n",
      "    package                    |            build\n",
      "    ---------------------------|-----------------\n",
      "    cpuonly-2.0                |                0           2 KB  pytorch\n",
      "    pytorch-1.10.2             |      py3.7_cpu_0       193.4 MB  pytorch\n",
      "    pytorch-mutex-1.0          |              cpu           3 KB  pytorch\n",
      "    torchaudio-0.10.2          |         py37_cpu         2.1 MB  pytorch\n",
      "    torchvision-0.11.3         |         py37_cpu         7.2 MB  pytorch\n",
      "    ------------------------------------------------------------\n",
      "                                           Total:       202.7 MB\n",
      "\n",
      "The following NEW packages will be INSTALLED:\n",
      "\n",
      "  blas               pkgs/main/win-64::blas-1.0-mkl\n",
      "  cpuonly            pytorch/noarch::cpuonly-2.0-0\n",
      "  libuv              pkgs/main/win-64::libuv-1.40.0-he774522_0\n",
      "  olefile            pkgs/main/win-64::olefile-0.46-py37_0\n",
      "  pillow             pkgs/main/win-64::pillow-8.3.1-py37h4fa10fc_0\n",
      "  pytorch            pytorch/win-64::pytorch-1.10.2-py3.7_cpu_0\n",
      "  pytorch-mutex      pytorch/noarch::pytorch-mutex-1.0-cpu\n",
      "  tk                 pkgs/main/win-64::tk-8.6.11-h2bbff1b_0\n",
      "  torchaudio         pytorch/win-64::torchaudio-0.10.2-py37_cpu\n",
      "  torchvision        pytorch/win-64::torchvision-0.11.3-py37_cpu\n",
      "  typing_extensions  pkgs/main/noarch::typing_extensions-3.10.0.2-pyh06a4308_0\n",
      "\n",
      "The following packages will be UPDATED:\n",
      "\n",
      "  ca-certificates    conda-forge::ca-certificates-2021.10.~ --> pkgs/main::ca-certificates-2021.10.26-haa95532_4\n",
      "  certifi            conda-forge::certifi-2021.10.8-py37h0~ --> pkgs/main::certifi-2021.10.8-py37haa95532_2\n",
      "  openssl            conda-forge::openssl-1.1.1l-h8ffe710_0 --> pkgs/main::openssl-1.1.1m-h2bbff1b_0\n",
      "\n",
      "\n",
      "\n",
      "Downloading and Extracting Packages\n",
      "\n",
      "torchvision-0.11.3   | 7.2 MB    |            |   0% \n",
      "torchvision-0.11.3   | 7.2 MB    |            |   0% \n",
      "torchvision-0.11.3   | 7.2 MB    |            |   0% \n",
      "torchvision-0.11.3   | 7.2 MB    |            |   1% \n",
      "torchvision-0.11.3   | 7.2 MB    |            |   1% \n",
      "torchvision-0.11.3   | 7.2 MB    | 1          |   1% \n",
      "torchvision-0.11.3   | 7.2 MB    | 1          |   1% \n",
      "torchvision-0.11.3   | 7.2 MB    | 1          |   2% \n",
      "torchvision-0.11.3   | 7.2 MB    | 2          |   2% \n",
      "torchvision-0.11.3   | 7.2 MB    | 2          |   3% \n",
      "torchvision-0.11.3   | 7.2 MB    | 3          |   3% \n",
      "torchvision-0.11.3   | 7.2 MB    | 3          |   3% \n",
      "torchvision-0.11.3   | 7.2 MB    | 3          |   4% \n",
      "torchvision-0.11.3   | 7.2 MB    | 4          |   4% \n",
      "torchvision-0.11.3   | 7.2 MB    | 4          |   5% \n",
      "torchvision-0.11.3   | 7.2 MB    | 5          |   5% \n",
      "torchvision-0.11.3   | 7.2 MB    | 5          |   6% \n",
      "torchvision-0.11.3   | 7.2 MB    | 6          |   6% \n",
      "torchvision-0.11.3   | 7.2 MB    | 6          |   7% \n",
      "torchvision-0.11.3   | 7.2 MB    | 6          |   7% \n",
      "torchvision-0.11.3   | 7.2 MB    | 7          |   7% \n",
      "torchvision-0.11.3   | 7.2 MB    | 8          |   8% \n",
      "torchvision-0.11.3   | 7.2 MB    | 8          |   8% \n",
      "torchvision-0.11.3   | 7.2 MB    | 8          |   9% \n",
      "torchvision-0.11.3   | 7.2 MB    | 9          |   9% \n",
      "torchvision-0.11.3   | 7.2 MB    | 9          |  10% \n",
      "torchvision-0.11.3   | 7.2 MB    | #          |  10% \n",
      "torchvision-0.11.3   | 7.2 MB    | #          |  11% \n",
      "torchvision-0.11.3   | 7.2 MB    | #1         |  11% \n",
      "torchvision-0.11.3   | 7.2 MB    | #1         |  12% \n",
      "torchvision-0.11.3   | 7.2 MB    | #2         |  12% \n",
      "torchvision-0.11.3   | 7.2 MB    | #2         |  13% \n",
      "torchvision-0.11.3   | 7.2 MB    | #3         |  13% \n",
      "torchvision-0.11.3   | 7.2 MB    | #3         |  14% \n",
      "torchvision-0.11.3   | 7.2 MB    | #4         |  14% \n",
      "torchvision-0.11.3   | 7.2 MB    | #5         |  15% \n",
      "torchvision-0.11.3   | 7.2 MB    | #5         |  16% \n",
      "torchvision-0.11.3   | 7.2 MB    | #6         |  16% \n",
      "torchvision-0.11.3   | 7.2 MB    | #6         |  17% \n",
      "torchvision-0.11.3   | 7.2 MB    | #7         |  18% \n",
      "torchvision-0.11.3   | 7.2 MB    | #8         |  18% \n",
      "torchvision-0.11.3   | 7.2 MB    | #9         |  19% \n",
      "torchvision-0.11.3   | 7.2 MB    | #9         |  20% \n",
      "torchvision-0.11.3   | 7.2 MB    | ##         |  20% \n",
      "torchvision-0.11.3   | 7.2 MB    | ##1        |  21% \n",
      "torchvision-0.11.3   | 7.2 MB    | ##1        |  22% \n",
      "torchvision-0.11.3   | 7.2 MB    | ##2        |  23% \n",
      "torchvision-0.11.3   | 7.2 MB    | ##3        |  23% \n",
      "torchvision-0.11.3   | 7.2 MB    | ##3        |  24% \n",
      "torchvision-0.11.3   | 7.2 MB    | ##4        |  25% \n",
      "torchvision-0.11.3   | 7.2 MB    | ##5        |  25% \n",
      "torchvision-0.11.3   | 7.2 MB    | ##6        |  26% \n",
      "torchvision-0.11.3   | 7.2 MB    | ##7        |  27% \n",
      "torchvision-0.11.3   | 7.2 MB    | ##8        |  28% \n",
      "torchvision-0.11.3   | 7.2 MB    | ##8        |  29% \n",
      "torchvision-0.11.3   | 7.2 MB    | ###        |  30% \n",
      "torchvision-0.11.3   | 7.2 MB    | ###1       |  31% \n",
      "torchvision-0.11.3   | 7.2 MB    | ###2       |  32% \n",
      "torchvision-0.11.3   | 7.2 MB    | ###3       |  33% \n",
      "torchvision-0.11.3   | 7.2 MB    | ###4       |  35% \n",
      "torchvision-0.11.3   | 7.2 MB    | ###5       |  36% \n",
      "torchvision-0.11.3   | 7.2 MB    | ###7       |  37% \n",
      "torchvision-0.11.3   | 7.2 MB    | ###8       |  39% \n",
      "torchvision-0.11.3   | 7.2 MB    | ####       |  40% \n",
      "torchvision-0.11.3   | 7.2 MB    | ####1      |  42% \n",
      "torchvision-0.11.3   | 7.2 MB    | ####3      |  44% \n",
      "torchvision-0.11.3   | 7.2 MB    | ####5      |  46% \n",
      "torchvision-0.11.3   | 7.2 MB    | ####7      |  47% \n",
      "torchvision-0.11.3   | 7.2 MB    | ####9      |  49% \n",
      "torchvision-0.11.3   | 7.2 MB    | #####1     |  51% \n",
      "torchvision-0.11.3   | 7.2 MB    | #####3     |  54% \n",
      "torchvision-0.11.3   | 7.2 MB    | #####5     |  56% \n",
      "torchvision-0.11.3   | 7.2 MB    | #####8     |  58% \n",
      "torchvision-0.11.3   | 7.2 MB    | ######     |  61% \n",
      "torchvision-0.11.3   | 7.2 MB    | ######3    |  63% \n",
      "torchvision-0.11.3   | 7.2 MB    | ######6    |  66% \n",
      "torchvision-0.11.3   | 7.2 MB    | ######9    |  69% \n",
      "torchvision-0.11.3   | 7.2 MB    | #######2   |  72% \n",
      "torchvision-0.11.3   | 7.2 MB    | #######5   |  75% \n",
      "torchvision-0.11.3   | 7.2 MB    | #######8   |  79% \n",
      "torchvision-0.11.3   | 7.2 MB    | ########1  |  82% \n",
      "torchvision-0.11.3   | 7.2 MB    | ########5  |  86% \n",
      "torchvision-0.11.3   | 7.2 MB    | ########9  |  89% \n",
      "torchvision-0.11.3   | 7.2 MB    | #########3 |  93% \n",
      "torchvision-0.11.3   | 7.2 MB    | #########7 |  97% \n",
      "torchvision-0.11.3   | 7.2 MB    | ########## | 100% \n",
      "\n",
      "pytorch-1.10.2       | 193.4 MB  |            |   0% \n",
      "pytorch-1.10.2       | 193.4 MB  |            |   0% \n",
      "pytorch-1.10.2       | 193.4 MB  |            |   0% \n",
      "pytorch-1.10.2       | 193.4 MB  |            |   0% \n",
      "pytorch-1.10.2       | 193.4 MB  |            |   0% \n",
      "pytorch-1.10.2       | 193.4 MB  |            |   1% \n",
      "pytorch-1.10.2       | 193.4 MB  |            |   1% \n",
      "pytorch-1.10.2       | 193.4 MB  |            |   1% \n",
      "pytorch-1.10.2       | 193.4 MB  | 1          |   1% \n",
      "pytorch-1.10.2       | 193.4 MB  | 1          |   1% \n",
      "pytorch-1.10.2       | 193.4 MB  | 1          |   1% \n",
      "pytorch-1.10.2       | 193.4 MB  | 1          |   1% \n",
      "pytorch-1.10.2       | 193.4 MB  | 1          |   2% \n",
      "pytorch-1.10.2       | 193.4 MB  | 1          |   2% \n",
      "pytorch-1.10.2       | 193.4 MB  | 2          |   2% \n",
      "pytorch-1.10.2       | 193.4 MB  | 2          |   2% \n",
      "pytorch-1.10.2       | 193.4 MB  | 2          |   2% \n",
      "pytorch-1.10.2       | 193.4 MB  | 2          |   3% \n",
      "pytorch-1.10.2       | 193.4 MB  | 2          |   3% \n",
      "pytorch-1.10.2       | 193.4 MB  | 2          |   3% \n",
      "pytorch-1.10.2       | 193.4 MB  | 2          |   3% \n",
      "pytorch-1.10.2       | 193.4 MB  | 3          |   3% \n",
      "pytorch-1.10.2       | 193.4 MB  | 3          |   3% \n",
      "pytorch-1.10.2       | 193.4 MB  | 3          |   3% \n",
      "pytorch-1.10.2       | 193.4 MB  | 3          |   3% \n",
      "pytorch-1.10.2       | 193.4 MB  | 3          |   4% \n",
      "pytorch-1.10.2       | 193.4 MB  | 3          |   4% \n",
      "pytorch-1.10.2       | 193.4 MB  | 3          |   4% \n",
      "pytorch-1.10.2       | 193.4 MB  | 4          |   4% \n",
      "pytorch-1.10.2       | 193.4 MB  | 4          |   4% \n",
      "pytorch-1.10.2       | 193.4 MB  | 4          |   4% \n",
      "pytorch-1.10.2       | 193.4 MB  | 4          |   4% \n",
      "pytorch-1.10.2       | 193.4 MB  | 4          |   5% \n",
      "pytorch-1.10.2       | 193.4 MB  | 4          |   5% \n",
      "pytorch-1.10.2       | 193.4 MB  | 4          |   5% \n",
      "pytorch-1.10.2       | 193.4 MB  | 5          |   5% \n",
      "pytorch-1.10.2       | 193.4 MB  | 5          |   5% \n",
      "pytorch-1.10.2       | 193.4 MB  | 5          |   5% \n",
      "pytorch-1.10.2       | 193.4 MB  | 5          |   5% \n",
      "pytorch-1.10.2       | 193.4 MB  | 5          |   6% \n",
      "pytorch-1.10.2       | 193.4 MB  | 5          |   6% \n",
      "pytorch-1.10.2       | 193.4 MB  | 5          |   6% \n",
      "pytorch-1.10.2       | 193.4 MB  | 5          |   6% \n",
      "pytorch-1.10.2       | 193.4 MB  | 6          |   6% \n",
      "pytorch-1.10.2       | 193.4 MB  | 6          |   6% \n",
      "pytorch-1.10.2       | 193.4 MB  | 6          |   6% \n",
      "pytorch-1.10.2       | 193.4 MB  | 6          |   7% \n",
      "pytorch-1.10.2       | 193.4 MB  | 6          |   7% \n",
      "pytorch-1.10.2       | 193.4 MB  | 6          |   7% \n",
      "pytorch-1.10.2       | 193.4 MB  | 6          |   7% \n",
      "pytorch-1.10.2       | 193.4 MB  | 7          |   7% \n",
      "pytorch-1.10.2       | 193.4 MB  | 7          |   7% \n",
      "pytorch-1.10.2       | 193.4 MB  | 7          |   7% \n",
      "pytorch-1.10.2       | 193.4 MB  | 7          |   7% \n",
      "pytorch-1.10.2       | 193.4 MB  | 7          |   8% \n",
      "pytorch-1.10.2       | 193.4 MB  | 7          |   8% \n",
      "pytorch-1.10.2       | 193.4 MB  | 7          |   8% \n",
      "pytorch-1.10.2       | 193.4 MB  | 8          |   8% \n",
      "pytorch-1.10.2       | 193.4 MB  | 8          |   8% \n",
      "pytorch-1.10.2       | 193.4 MB  | 8          |   8% \n",
      "pytorch-1.10.2       | 193.4 MB  | 8          |   8% \n",
      "pytorch-1.10.2       | 193.4 MB  | 8          |   9% \n",
      "pytorch-1.10.2       | 193.4 MB  | 8          |   9% \n",
      "pytorch-1.10.2       | 193.4 MB  | 8          |   9% \n",
      "pytorch-1.10.2       | 193.4 MB  | 9          |   9% \n",
      "pytorch-1.10.2       | 193.4 MB  | 9          |   9% \n",
      "pytorch-1.10.2       | 193.4 MB  | 9          |   9% \n",
      "pytorch-1.10.2       | 193.4 MB  | 9          |   9% \n",
      "pytorch-1.10.2       | 193.4 MB  | 9          |  10% \n",
      "pytorch-1.10.2       | 193.4 MB  | 9          |  10% \n",
      "pytorch-1.10.2       | 193.4 MB  | 9          |  10% \n",
      "pytorch-1.10.2       | 193.4 MB  | 9          |  10% \n",
      "pytorch-1.10.2       | 193.4 MB  | #          |  10% \n",
      "pytorch-1.10.2       | 193.4 MB  | #          |  10% \n",
      "pytorch-1.10.2       | 193.4 MB  | #          |  10% \n",
      "pytorch-1.10.2       | 193.4 MB  | #          |  11% \n",
      "pytorch-1.10.2       | 193.4 MB  | #          |  11% \n",
      "pytorch-1.10.2       | 193.4 MB  | #1         |  11% \n",
      "pytorch-1.10.2       | 193.4 MB  | #1         |  11% \n",
      "pytorch-1.10.2       | 193.4 MB  | #1         |  11% \n",
      "pytorch-1.10.2       | 193.4 MB  | #1         |  11% \n",
      "pytorch-1.10.2       | 193.4 MB  | #1         |  12% \n",
      "pytorch-1.10.2       | 193.4 MB  | #1         |  12% \n",
      "pytorch-1.10.2       | 193.4 MB  | #1         |  12% \n",
      "pytorch-1.10.2       | 193.4 MB  | #2         |  12% \n",
      "pytorch-1.10.2       | 193.4 MB  | #2         |  12% \n",
      "pytorch-1.10.2       | 193.4 MB  | #2         |  12% \n",
      "pytorch-1.10.2       | 193.4 MB  | #2         |  12% \n",
      "pytorch-1.10.2       | 193.4 MB  | #2         |  13% \n",
      "pytorch-1.10.2       | 193.4 MB  | #2         |  13% \n",
      "pytorch-1.10.2       | 193.4 MB  | #2         |  13% \n",
      "pytorch-1.10.2       | 193.4 MB  | #3         |  13% \n",
      "pytorch-1.10.2       | 193.4 MB  | #3         |  13% \n",
      "pytorch-1.10.2       | 193.4 MB  | #3         |  13% \n",
      "pytorch-1.10.2       | 193.4 MB  | #3         |  13% \n",
      "pytorch-1.10.2       | 193.4 MB  | #3         |  14% \n",
      "pytorch-1.10.2       | 193.4 MB  | #3         |  14% \n",
      "pytorch-1.10.2       | 193.4 MB  | #3         |  14% \n",
      "pytorch-1.10.2       | 193.4 MB  | #4         |  14% \n",
      "pytorch-1.10.2       | 193.4 MB  | #4         |  14% \n",
      "pytorch-1.10.2       | 193.4 MB  | #4         |  14% \n",
      "pytorch-1.10.2       | 193.4 MB  | #4         |  14% \n",
      "pytorch-1.10.2       | 193.4 MB  | #4         |  15% \n",
      "pytorch-1.10.2       | 193.4 MB  | #4         |  15% \n",
      "pytorch-1.10.2       | 193.4 MB  | #4         |  15% \n",
      "pytorch-1.10.2       | 193.4 MB  | #4         |  15% \n",
      "pytorch-1.10.2       | 193.4 MB  | #5         |  15% \n",
      "pytorch-1.10.2       | 193.4 MB  | #5         |  15% \n",
      "pytorch-1.10.2       | 193.4 MB  | #5         |  15% \n",
      "pytorch-1.10.2       | 193.4 MB  | #5         |  16% \n",
      "pytorch-1.10.2       | 193.4 MB  | #5         |  16% \n",
      "pytorch-1.10.2       | 193.4 MB  | #5         |  16% \n",
      "pytorch-1.10.2       | 193.4 MB  | #5         |  16% \n",
      "pytorch-1.10.2       | 193.4 MB  | #6         |  16% \n",
      "pytorch-1.10.2       | 193.4 MB  | #6         |  16% \n",
      "pytorch-1.10.2       | 193.4 MB  | #6         |  16% \n",
      "pytorch-1.10.2       | 193.4 MB  | #6         |  17% \n",
      "pytorch-1.10.2       | 193.4 MB  | #6         |  17% \n",
      "pytorch-1.10.2       | 193.4 MB  | #6         |  17% \n",
      "\n",
      "Note: you may need to restart the kernel to use updated packages.pytorch-1.10.2       | 193.4 MB  | #7         |  17% \n",
      "pytorch-1.10.2       | 193.4 MB  | #7         |  17% \n",
      "pytorch-1.10.2       | 193.4 MB  | #7         |  17% \n",
      "pytorch-1.10.2       | 193.4 MB  | #7         |  17% \n",
      "pytorch-1.10.2       | 193.4 MB  | #7         |  18% \n",
      "pytorch-1.10.2       | 193.4 MB  | #7         |  18% \n",
      "pytorch-1.10.2       | 193.4 MB  | #7         |  18% \n",
      "pytorch-1.10.2       | 193.4 MB  | #8         |  18% \n",
      "pytorch-1.10.2       | 193.4 MB  | #8         |  18% \n",
      "pytorch-1.10.2       | 193.4 MB  | #8         |  18% \n",
      "pytorch-1.10.2       | 193.4 MB  | #8         |  18% \n",
      "pytorch-1.10.2       | 193.4 MB  | #8         |  19% \n",
      "pytorch-1.10.2       | 193.4 MB  | #8         |  19% \n",
      "pytorch-1.10.2       | 193.4 MB  | #8         |  19% \n",
      "pytorch-1.10.2       | 193.4 MB  | #9         |  19% \n",
      "pytorch-1.10.2       | 193.4 MB  | #9         |  19% \n",
      "pytorch-1.10.2       | 193.4 MB  | #9         |  19% \n",
      "pytorch-1.10.2       | 193.4 MB  | #9         |  19% \n",
      "pytorch-1.10.2       | 193.4 MB  | #9         |  20% \n",
      "pytorch-1.10.2       | 193.4 MB  | #9         |  20% \n",
      "pytorch-1.10.2       | 193.4 MB  | #9         |  20% \n",
      "pytorch-1.10.2       | 193.4 MB  | #9         |  20% \n",
      "pytorch-1.10.2       | 193.4 MB  | ##         |  20% \n",
      "pytorch-1.10.2       | 193.4 MB  | ##         |  20% \n",
      "pytorch-1.10.2       | 193.4 MB  | ##         |  20% \n",
      "pytorch-1.10.2       | 193.4 MB  | ##         |  21% \n",
      "pytorch-1.10.2       | 193.4 MB  | ##         |  21% \n",
      "pytorch-1.10.2       | 193.4 MB  | ##         |  21% \n",
      "pytorch-1.10.2       | 193.4 MB  | ##         |  21% \n",
      "\n"
     ]
    },
    {
     "name": "stdout",
     "output_type": "stream",
     "text": [
      "pytorch-1.10.2       | 193.4 MB  | ##1        |  21% \n",
      "pytorch-1.10.2       | 193.4 MB  | ##1        |  21% \n",
      "pytorch-1.10.2       | 193.4 MB  | ##1        |  21% \n",
      "pytorch-1.10.2       | 193.4 MB  | ##1        |  22% \n",
      "pytorch-1.10.2       | 193.4 MB  | ##1        |  22% \n",
      "pytorch-1.10.2       | 193.4 MB  | ##1        |  22% \n",
      "pytorch-1.10.2       | 193.4 MB  | ##1        |  22% \n",
      "pytorch-1.10.2       | 193.4 MB  | ##2        |  22% \n",
      "pytorch-1.10.2       | 193.4 MB  | ##2        |  22% \n",
      "pytorch-1.10.2       | 193.4 MB  | ##2        |  22% \n",
      "pytorch-1.10.2       | 193.4 MB  | ##2        |  22% \n",
      "pytorch-1.10.2       | 193.4 MB  | ##2        |  23% \n",
      "pytorch-1.10.2       | 193.4 MB  | ##2        |  23% \n",
      "pytorch-1.10.2       | 193.4 MB  | ##2        |  23% \n",
      "pytorch-1.10.2       | 193.4 MB  | ##3        |  23% \n",
      "pytorch-1.10.2       | 193.4 MB  | ##3        |  23% \n",
      "pytorch-1.10.2       | 193.4 MB  | ##3        |  23% \n",
      "pytorch-1.10.2       | 193.4 MB  | ##3        |  23% \n",
      "pytorch-1.10.2       | 193.4 MB  | ##3        |  24% \n",
      "pytorch-1.10.2       | 193.4 MB  | ##3        |  24% \n",
      "pytorch-1.10.2       | 193.4 MB  | ##3        |  24% \n",
      "pytorch-1.10.2       | 193.4 MB  | ##4        |  24% \n",
      "pytorch-1.10.2       | 193.4 MB  | ##4        |  24% \n",
      "pytorch-1.10.2       | 193.4 MB  | ##4        |  24% \n",
      "pytorch-1.10.2       | 193.4 MB  | ##4        |  24% \n",
      "pytorch-1.10.2       | 193.4 MB  | ##4        |  25% \n",
      "pytorch-1.10.2       | 193.4 MB  | ##4        |  25% \n",
      "pytorch-1.10.2       | 193.4 MB  | ##5        |  25% \n",
      "pytorch-1.10.2       | 193.4 MB  | ##5        |  25% \n",
      "pytorch-1.10.2       | 193.4 MB  | ##5        |  25% \n",
      "pytorch-1.10.2       | 193.4 MB  | ##5        |  26% \n",
      "pytorch-1.10.2       | 193.4 MB  | ##5        |  26% \n",
      "pytorch-1.10.2       | 193.4 MB  | ##5        |  26% \n",
      "pytorch-1.10.2       | 193.4 MB  | ##6        |  26% \n",
      "pytorch-1.10.2       | 193.4 MB  | ##6        |  26% \n",
      "pytorch-1.10.2       | 193.4 MB  | ##6        |  26% \n",
      "pytorch-1.10.2       | 193.4 MB  | ##6        |  26% \n",
      "pytorch-1.10.2       | 193.4 MB  | ##6        |  27% \n",
      "pytorch-1.10.2       | 193.4 MB  | ##6        |  27% \n",
      "pytorch-1.10.2       | 193.4 MB  | ##6        |  27% \n",
      "pytorch-1.10.2       | 193.4 MB  | ##6        |  27% \n",
      "pytorch-1.10.2       | 193.4 MB  | ##7        |  27% \n",
      "pytorch-1.10.2       | 193.4 MB  | ##7        |  27% \n",
      "pytorch-1.10.2       | 193.4 MB  | ##7        |  27% \n",
      "pytorch-1.10.2       | 193.4 MB  | ##7        |  28% \n",
      "pytorch-1.10.2       | 193.4 MB  | ##7        |  28% \n",
      "pytorch-1.10.2       | 193.4 MB  | ##7        |  28% \n",
      "pytorch-1.10.2       | 193.4 MB  | ##7        |  28% \n",
      "pytorch-1.10.2       | 193.4 MB  | ##8        |  28% \n",
      "pytorch-1.10.2       | 193.4 MB  | ##8        |  28% \n",
      "pytorch-1.10.2       | 193.4 MB  | ##8        |  28% \n",
      "pytorch-1.10.2       | 193.4 MB  | ##8        |  29% \n",
      "pytorch-1.10.2       | 193.4 MB  | ##8        |  29% \n",
      "pytorch-1.10.2       | 193.4 MB  | ##8        |  29% \n",
      "pytorch-1.10.2       | 193.4 MB  | ##8        |  29% \n",
      "pytorch-1.10.2       | 193.4 MB  | ##9        |  29% \n",
      "pytorch-1.10.2       | 193.4 MB  | ##9        |  29% \n",
      "pytorch-1.10.2       | 193.4 MB  | ##9        |  29% \n",
      "pytorch-1.10.2       | 193.4 MB  | ##9        |  30% \n",
      "pytorch-1.10.2       | 193.4 MB  | ##9        |  30% \n",
      "pytorch-1.10.2       | 193.4 MB  | ##9        |  30% \n",
      "pytorch-1.10.2       | 193.4 MB  | ###        |  30% \n",
      "pytorch-1.10.2       | 193.4 MB  | ###        |  30% \n",
      "pytorch-1.10.2       | 193.4 MB  | ###        |  30% \n",
      "pytorch-1.10.2       | 193.4 MB  | ###        |  31% \n",
      "pytorch-1.10.2       | 193.4 MB  | ###        |  31% \n",
      "pytorch-1.10.2       | 193.4 MB  | ###        |  31% \n",
      "pytorch-1.10.2       | 193.4 MB  | ###        |  31% \n",
      "pytorch-1.10.2       | 193.4 MB  | ###1       |  31% \n",
      "pytorch-1.10.2       | 193.4 MB  | ###1       |  31% \n",
      "pytorch-1.10.2       | 193.4 MB  | ###1       |  31% \n",
      "pytorch-1.10.2       | 193.4 MB  | ###1       |  31% \n",
      "pytorch-1.10.2       | 193.4 MB  | ###1       |  32% \n",
      "pytorch-1.10.2       | 193.4 MB  | ###1       |  32% \n",
      "pytorch-1.10.2       | 193.4 MB  | ###1       |  32% \n",
      "pytorch-1.10.2       | 193.4 MB  | ###2       |  32% \n",
      "pytorch-1.10.2       | 193.4 MB  | ###2       |  32% \n",
      "pytorch-1.10.2       | 193.4 MB  | ###2       |  32% \n",
      "pytorch-1.10.2       | 193.4 MB  | ###2       |  32% \n",
      "pytorch-1.10.2       | 193.4 MB  | ###2       |  33% \n",
      "pytorch-1.10.2       | 193.4 MB  | ###2       |  33% \n",
      "pytorch-1.10.2       | 193.4 MB  | ###2       |  33% \n",
      "pytorch-1.10.2       | 193.4 MB  | ###3       |  33% \n",
      "pytorch-1.10.2       | 193.4 MB  | ###3       |  33% \n",
      "pytorch-1.10.2       | 193.4 MB  | ###3       |  33% \n",
      "pytorch-1.10.2       | 193.4 MB  | ###3       |  33% \n",
      "pytorch-1.10.2       | 193.4 MB  | ###3       |  34% \n",
      "pytorch-1.10.2       | 193.4 MB  | ###3       |  34% \n",
      "pytorch-1.10.2       | 193.4 MB  | ###3       |  34% \n",
      "pytorch-1.10.2       | 193.4 MB  | ###4       |  34% \n",
      "pytorch-1.10.2       | 193.4 MB  | ###4       |  34% \n",
      "pytorch-1.10.2       | 193.4 MB  | ###4       |  34% \n",
      "pytorch-1.10.2       | 193.4 MB  | ###4       |  34% \n",
      "pytorch-1.10.2       | 193.4 MB  | ###4       |  35% \n",
      "pytorch-1.10.2       | 193.4 MB  | ###4       |  35% \n",
      "pytorch-1.10.2       | 193.4 MB  | ###4       |  35% \n",
      "pytorch-1.10.2       | 193.4 MB  | ###5       |  35% \n",
      "pytorch-1.10.2       | 193.4 MB  | ###5       |  35% \n",
      "pytorch-1.10.2       | 193.4 MB  | ###5       |  35% \n",
      "pytorch-1.10.2       | 193.4 MB  | ###5       |  35% \n",
      "pytorch-1.10.2       | 193.4 MB  | ###5       |  36% \n",
      "pytorch-1.10.2       | 193.4 MB  | ###5       |  36% \n",
      "pytorch-1.10.2       | 193.4 MB  | ###5       |  36% \n",
      "pytorch-1.10.2       | 193.4 MB  | ###6       |  36% \n",
      "pytorch-1.10.2       | 193.4 MB  | ###6       |  36% \n",
      "pytorch-1.10.2       | 193.4 MB  | ###6       |  36% \n",
      "pytorch-1.10.2       | 193.4 MB  | ###6       |  36% \n",
      "pytorch-1.10.2       | 193.4 MB  | ###6       |  37% \n",
      "pytorch-1.10.2       | 193.4 MB  | ###6       |  37% \n",
      "pytorch-1.10.2       | 193.4 MB  | ###7       |  37% \n",
      "pytorch-1.10.2       | 193.4 MB  | ###7       |  37% \n",
      "pytorch-1.10.2       | 193.4 MB  | ###7       |  37% \n",
      "pytorch-1.10.2       | 193.4 MB  | ###7       |  38% \n",
      "pytorch-1.10.2       | 193.4 MB  | ###7       |  38% \n",
      "pytorch-1.10.2       | 193.4 MB  | ###7       |  38% \n",
      "pytorch-1.10.2       | 193.4 MB  | ###7       |  38% \n",
      "pytorch-1.10.2       | 193.4 MB  | ###8       |  38% \n",
      "pytorch-1.10.2       | 193.4 MB  | ###8       |  38% \n",
      "pytorch-1.10.2       | 193.4 MB  | ###8       |  38% \n",
      "pytorch-1.10.2       | 193.4 MB  | ###8       |  39% \n",
      "pytorch-1.10.2       | 193.4 MB  | ###8       |  39% \n",
      "pytorch-1.10.2       | 193.4 MB  | ###8       |  39% \n",
      "pytorch-1.10.2       | 193.4 MB  | ###8       |  39% \n",
      "pytorch-1.10.2       | 193.4 MB  | ###9       |  39% \n",
      "pytorch-1.10.2       | 193.4 MB  | ###9       |  39% \n",
      "pytorch-1.10.2       | 193.4 MB  | ###9       |  39% \n",
      "pytorch-1.10.2       | 193.4 MB  | ###9       |  40% \n",
      "pytorch-1.10.2       | 193.4 MB  | ###9       |  40% \n",
      "pytorch-1.10.2       | 193.4 MB  | ###9       |  40% \n",
      "pytorch-1.10.2       | 193.4 MB  | ###9       |  40% \n",
      "pytorch-1.10.2       | 193.4 MB  | ####       |  40% \n",
      "pytorch-1.10.2       | 193.4 MB  | ####       |  40% \n",
      "pytorch-1.10.2       | 193.4 MB  | ####       |  40% \n",
      "pytorch-1.10.2       | 193.4 MB  | ####       |  41% \n",
      "pytorch-1.10.2       | 193.4 MB  | ####       |  41% \n",
      "pytorch-1.10.2       | 193.4 MB  | ####       |  41% \n",
      "pytorch-1.10.2       | 193.4 MB  | ####       |  41% \n",
      "pytorch-1.10.2       | 193.4 MB  | ####1      |  41% \n",
      "pytorch-1.10.2       | 193.4 MB  | ####1      |  41% \n",
      "pytorch-1.10.2       | 193.4 MB  | ####1      |  41% \n",
      "pytorch-1.10.2       | 193.4 MB  | ####1      |  41% \n",
      "pytorch-1.10.2       | 193.4 MB  | ####1      |  42% \n",
      "pytorch-1.10.2       | 193.4 MB  | ####1      |  42% \n",
      "pytorch-1.10.2       | 193.4 MB  | ####1      |  42% \n",
      "pytorch-1.10.2       | 193.4 MB  | ####2      |  42% \n",
      "pytorch-1.10.2       | 193.4 MB  | ####2      |  42% \n",
      "pytorch-1.10.2       | 193.4 MB  | ####2      |  42% \n",
      "pytorch-1.10.2       | 193.4 MB  | ####2      |  42% \n",
      "pytorch-1.10.2       | 193.4 MB  | ####2      |  43% \n",
      "pytorch-1.10.2       | 193.4 MB  | ####2      |  43% \n",
      "pytorch-1.10.2       | 193.4 MB  | ####2      |  43% \n",
      "pytorch-1.10.2       | 193.4 MB  | ####2      |  43% \n",
      "pytorch-1.10.2       | 193.4 MB  | ####3      |  43% \n",
      "pytorch-1.10.2       | 193.4 MB  | ####3      |  43% \n",
      "pytorch-1.10.2       | 193.4 MB  | ####3      |  43% \n",
      "pytorch-1.10.2       | 193.4 MB  | ####3      |  44% \n",
      "pytorch-1.10.2       | 193.4 MB  | ####3      |  44% \n",
      "pytorch-1.10.2       | 193.4 MB  | ####3      |  44% \n",
      "pytorch-1.10.2       | 193.4 MB  | ####3      |  44% \n",
      "pytorch-1.10.2       | 193.4 MB  | ####4      |  44% \n",
      "pytorch-1.10.2       | 193.4 MB  | ####4      |  44% \n",
      "pytorch-1.10.2       | 193.4 MB  | ####4      |  44% \n",
      "pytorch-1.10.2       | 193.4 MB  | ####4      |  45% \n",
      "pytorch-1.10.2       | 193.4 MB  | ####4      |  45% \n",
      "pytorch-1.10.2       | 193.4 MB  | ####4      |  45% \n",
      "pytorch-1.10.2       | 193.4 MB  | ####4      |  45% \n",
      "pytorch-1.10.2       | 193.4 MB  | ####5      |  45% \n",
      "pytorch-1.10.2       | 193.4 MB  | ####5      |  45% \n",
      "pytorch-1.10.2       | 193.4 MB  | ####5      |  45% \n",
      "pytorch-1.10.2       | 193.4 MB  | ####5      |  46% \n",
      "pytorch-1.10.2       | 193.4 MB  | ####5      |  46% \n",
      "pytorch-1.10.2       | 193.4 MB  | ####5      |  46% \n",
      "pytorch-1.10.2       | 193.4 MB  | ####5      |  46% \n",
      "pytorch-1.10.2       | 193.4 MB  | ####6      |  46% \n",
      "pytorch-1.10.2       | 193.4 MB  | ####6      |  46% \n",
      "pytorch-1.10.2       | 193.4 MB  | ####6      |  46% \n",
      "pytorch-1.10.2       | 193.4 MB  | ####6      |  47% \n",
      "pytorch-1.10.2       | 193.4 MB  | ####6      |  47% \n",
      "pytorch-1.10.2       | 193.4 MB  | ####6      |  47% \n",
      "pytorch-1.10.2       | 193.4 MB  | ####6      |  47% \n",
      "pytorch-1.10.2       | 193.4 MB  | ####7      |  47% \n",
      "pytorch-1.10.2       | 193.4 MB  | ####7      |  47% \n",
      "pytorch-1.10.2       | 193.4 MB  | ####7      |  47% \n",
      "pytorch-1.10.2       | 193.4 MB  | ####7      |  47% \n",
      "pytorch-1.10.2       | 193.4 MB  | ####7      |  48% \n",
      "pytorch-1.10.2       | 193.4 MB  | ####7      |  48% \n",
      "pytorch-1.10.2       | 193.4 MB  | ####7      |  48% \n",
      "pytorch-1.10.2       | 193.4 MB  | ####7      |  48% \n",
      "pytorch-1.10.2       | 193.4 MB  | ####8      |  48% \n",
      "pytorch-1.10.2       | 193.4 MB  | ####8      |  48% \n",
      "pytorch-1.10.2       | 193.4 MB  | ####8      |  49% \n",
      "pytorch-1.10.2       | 193.4 MB  | ####8      |  49% \n",
      "pytorch-1.10.2       | 193.4 MB  | ####8      |  49% \n",
      "pytorch-1.10.2       | 193.4 MB  | ####8      |  49% \n",
      "pytorch-1.10.2       | 193.4 MB  | ####9      |  49% \n",
      "pytorch-1.10.2       | 193.4 MB  | ####9      |  49% \n",
      "pytorch-1.10.2       | 193.4 MB  | ####9      |  49% \n",
      "pytorch-1.10.2       | 193.4 MB  | ####9      |  50% \n",
      "pytorch-1.10.2       | 193.4 MB  | ####9      |  50% \n",
      "pytorch-1.10.2       | 193.4 MB  | ####9      |  50% \n",
      "pytorch-1.10.2       | 193.4 MB  | ####9      |  50% \n",
      "pytorch-1.10.2       | 193.4 MB  | #####      |  50% \n",
      "pytorch-1.10.2       | 193.4 MB  | #####      |  50% \n",
      "pytorch-1.10.2       | 193.4 MB  | #####      |  50% \n",
      "pytorch-1.10.2       | 193.4 MB  | #####      |  50% \n",
      "pytorch-1.10.2       | 193.4 MB  | #####      |  51% \n",
      "pytorch-1.10.2       | 193.4 MB  | #####      |  51% \n",
      "pytorch-1.10.2       | 193.4 MB  | #####      |  51% \n",
      "pytorch-1.10.2       | 193.4 MB  | #####1     |  51% \n",
      "pytorch-1.10.2       | 193.4 MB  | #####2     |  52% \n",
      "pytorch-1.10.2       | 193.4 MB  | #####2     |  52% \n",
      "pytorch-1.10.2       | 193.4 MB  | #####2     |  53% \n",
      "pytorch-1.10.2       | 193.4 MB  | #####2     |  53% \n",
      "pytorch-1.10.2       | 193.4 MB  | #####3     |  53% \n",
      "pytorch-1.10.2       | 193.4 MB  | #####3     |  53% \n",
      "pytorch-1.10.2       | 193.4 MB  | #####3     |  53% \n",
      "pytorch-1.10.2       | 193.4 MB  | #####3     |  54% \n",
      "pytorch-1.10.2       | 193.4 MB  | #####3     |  54% \n",
      "pytorch-1.10.2       | 193.4 MB  | #####3     |  54% \n",
      "pytorch-1.10.2       | 193.4 MB  | #####4     |  54% \n",
      "pytorch-1.10.2       | 193.4 MB  | #####4     |  54% \n",
      "pytorch-1.10.2       | 193.4 MB  | #####4     |  54% \n",
      "pytorch-1.10.2       | 193.4 MB  | #####4     |  54% \n",
      "pytorch-1.10.2       | 193.4 MB  | #####4     |  55% \n",
      "pytorch-1.10.2       | 193.4 MB  | #####4     |  55% \n",
      "pytorch-1.10.2       | 193.4 MB  | #####4     |  55% \n",
      "pytorch-1.10.2       | 193.4 MB  | #####5     |  55% \n",
      "pytorch-1.10.2       | 193.4 MB  | #####5     |  55% \n",
      "pytorch-1.10.2       | 193.4 MB  | #####5     |  55% \n",
      "pytorch-1.10.2       | 193.4 MB  | #####5     |  56% \n",
      "pytorch-1.10.2       | 193.4 MB  | #####5     |  56% \n",
      "pytorch-1.10.2       | 193.4 MB  | #####5     |  56% \n",
      "pytorch-1.10.2       | 193.4 MB  | #####5     |  56% \n",
      "pytorch-1.10.2       | 193.4 MB  | #####6     |  56% \n",
      "pytorch-1.10.2       | 193.4 MB  | #####6     |  56% \n",
      "pytorch-1.10.2       | 193.4 MB  | #####6     |  56% \n",
      "pytorch-1.10.2       | 193.4 MB  | #####6     |  56% \n",
      "pytorch-1.10.2       | 193.4 MB  | #####6     |  57% \n",
      "pytorch-1.10.2       | 193.4 MB  | #####6     |  57% \n",
      "pytorch-1.10.2       | 193.4 MB  | #####6     |  57% \n",
      "pytorch-1.10.2       | 193.4 MB  | #####7     |  57% \n",
      "pytorch-1.10.2       | 193.4 MB  | #####7     |  57% \n",
      "pytorch-1.10.2       | 193.4 MB  | #####7     |  57% \n",
      "pytorch-1.10.2       | 193.4 MB  | #####7     |  57% \n",
      "pytorch-1.10.2       | 193.4 MB  | #####7     |  58% \n",
      "pytorch-1.10.2       | 193.4 MB  | #####7     |  58% \n",
      "pytorch-1.10.2       | 193.4 MB  | #####7     |  58% \n",
      "pytorch-1.10.2       | 193.4 MB  | #####7     |  58% \n",
      "pytorch-1.10.2       | 193.4 MB  | #####8     |  58% \n",
      "pytorch-1.10.2       | 193.4 MB  | #####8     |  58% \n",
      "pytorch-1.10.2       | 193.4 MB  | #####8     |  58% \n",
      "pytorch-1.10.2       | 193.4 MB  | #####8     |  58% \n",
      "pytorch-1.10.2       | 193.4 MB  | #####8     |  59% \n",
      "pytorch-1.10.2       | 193.4 MB  | #####8     |  59% \n",
      "pytorch-1.10.2       | 193.4 MB  | #####8     |  59% \n",
      "pytorch-1.10.2       | 193.4 MB  | #####9     |  59% \n",
      "pytorch-1.10.2       | 193.4 MB  | #####9     |  59% \n",
      "pytorch-1.10.2       | 193.4 MB  | #####9     |  59% \n",
      "pytorch-1.10.2       | 193.4 MB  | #####9     |  59% \n",
      "pytorch-1.10.2       | 193.4 MB  | #####9     |  60% \n",
      "pytorch-1.10.2       | 193.4 MB  | #####9     |  60% \n",
      "pytorch-1.10.2       | 193.4 MB  | #####9     |  60% \n",
      "pytorch-1.10.2       | 193.4 MB  | #####9     |  60% \n",
      "pytorch-1.10.2       | 193.4 MB  | ######     |  60% \n",
      "pytorch-1.10.2       | 193.4 MB  | ######     |  60% \n",
      "pytorch-1.10.2       | 193.4 MB  | ######     |  60% \n",
      "pytorch-1.10.2       | 193.4 MB  | ######     |  61% \n",
      "pytorch-1.10.2       | 193.4 MB  | ######     |  61% \n",
      "pytorch-1.10.2       | 193.4 MB  | ######     |  61% \n",
      "pytorch-1.10.2       | 193.4 MB  | ######     |  61% \n",
      "pytorch-1.10.2       | 193.4 MB  | ######1    |  61% \n",
      "pytorch-1.10.2       | 193.4 MB  | ######1    |  61% \n",
      "pytorch-1.10.2       | 193.4 MB  | ######1    |  61% \n",
      "pytorch-1.10.2       | 193.4 MB  | ######1    |  62% \n",
      "pytorch-1.10.2       | 193.4 MB  | ######1    |  62% \n",
      "pytorch-1.10.2       | 193.4 MB  | ######1    |  62% \n",
      "pytorch-1.10.2       | 193.4 MB  | ######1    |  62% \n",
      "pytorch-1.10.2       | 193.4 MB  | ######2    |  62% \n",
      "pytorch-1.10.2       | 193.4 MB  | ######2    |  62% \n",
      "pytorch-1.10.2       | 193.4 MB  | ######2    |  62% \n",
      "pytorch-1.10.2       | 193.4 MB  | ######2    |  63% \n",
      "pytorch-1.10.2       | 193.4 MB  | ######2    |  63% \n",
      "pytorch-1.10.2       | 193.4 MB  | ######2    |  63% \n",
      "pytorch-1.10.2       | 193.4 MB  | ######2    |  63% \n",
      "pytorch-1.10.2       | 193.4 MB  | ######3    |  63% \n",
      "pytorch-1.10.2       | 193.4 MB  | ######3    |  63% \n",
      "pytorch-1.10.2       | 193.4 MB  | ######3    |  63% \n",
      "pytorch-1.10.2       | 193.4 MB  | ######3    |  64% \n",
      "pytorch-1.10.2       | 193.4 MB  | ######3    |  64% \n",
      "pytorch-1.10.2       | 193.4 MB  | ######3    |  64% \n",
      "pytorch-1.10.2       | 193.4 MB  | ######3    |  64% \n",
      "pytorch-1.10.2       | 193.4 MB  | ######4    |  64% \n",
      "pytorch-1.10.2       | 193.4 MB  | ######4    |  64% \n",
      "pytorch-1.10.2       | 193.4 MB  | ######4    |  64% \n",
      "pytorch-1.10.2       | 193.4 MB  | ######4    |  65% \n",
      "pytorch-1.10.2       | 193.4 MB  | ######4    |  65% \n",
      "pytorch-1.10.2       | 193.4 MB  | ######4    |  65% \n",
      "pytorch-1.10.2       | 193.4 MB  | ######4    |  65% \n",
      "pytorch-1.10.2       | 193.4 MB  | ######5    |  65% \n",
      "pytorch-1.10.2       | 193.4 MB  | ######5    |  65% \n",
      "pytorch-1.10.2       | 193.4 MB  | ######5    |  65% \n",
      "pytorch-1.10.2       | 193.4 MB  | ######5    |  66% \n",
      "pytorch-1.10.2       | 193.4 MB  | ######5    |  66% \n",
      "pytorch-1.10.2       | 193.4 MB  | ######5    |  66% \n",
      "pytorch-1.10.2       | 193.4 MB  | ######5    |  66% \n",
      "pytorch-1.10.2       | 193.4 MB  | ######6    |  66% \n",
      "pytorch-1.10.2       | 193.4 MB  | ######6    |  66% \n",
      "pytorch-1.10.2       | 193.4 MB  | ######6    |  66% \n",
      "pytorch-1.10.2       | 193.4 MB  | ######6    |  67% \n",
      "pytorch-1.10.2       | 193.4 MB  | ######6    |  67% \n",
      "pytorch-1.10.2       | 193.4 MB  | ######6    |  67% \n",
      "pytorch-1.10.2       | 193.4 MB  | ######7    |  67% \n",
      "pytorch-1.10.2       | 193.4 MB  | ######7    |  67% \n",
      "pytorch-1.10.2       | 193.4 MB  | ######7    |  67% \n",
      "pytorch-1.10.2       | 193.4 MB  | ######7    |  68% \n",
      "pytorch-1.10.2       | 193.4 MB  | ######7    |  68% \n",
      "pytorch-1.10.2       | 193.4 MB  | ######7    |  68% \n",
      "pytorch-1.10.2       | 193.4 MB  | ######7    |  68% \n",
      "pytorch-1.10.2       | 193.4 MB  | ######8    |  68% \n",
      "pytorch-1.10.2       | 193.4 MB  | ######8    |  68% \n",
      "pytorch-1.10.2       | 193.4 MB  | ######8    |  68% \n",
      "pytorch-1.10.2       | 193.4 MB  | ######8    |  69% \n",
      "pytorch-1.10.2       | 193.4 MB  | ######8    |  69% \n",
      "pytorch-1.10.2       | 193.4 MB  | ######8    |  69% \n",
      "pytorch-1.10.2       | 193.4 MB  | ######8    |  69% \n",
      "pytorch-1.10.2       | 193.4 MB  | ######9    |  69% \n",
      "pytorch-1.10.2       | 193.4 MB  | ######9    |  69% \n",
      "pytorch-1.10.2       | 193.4 MB  | ######9    |  69% \n",
      "pytorch-1.10.2       | 193.4 MB  | ######9    |  70% \n",
      "pytorch-1.10.2       | 193.4 MB  | ######9    |  70% \n",
      "pytorch-1.10.2       | 193.4 MB  | ######9    |  70% \n",
      "pytorch-1.10.2       | 193.4 MB  | ######9    |  70% \n",
      "pytorch-1.10.2       | 193.4 MB  | #######    |  70% \n",
      "pytorch-1.10.2       | 193.4 MB  | #######    |  70% \n",
      "pytorch-1.10.2       | 193.4 MB  | #######    |  70% \n",
      "pytorch-1.10.2       | 193.4 MB  | #######    |  71% \n",
      "pytorch-1.10.2       | 193.4 MB  | #######    |  71% \n",
      "pytorch-1.10.2       | 193.4 MB  | #######    |  71% \n",
      "pytorch-1.10.2       | 193.4 MB  | #######    |  71% \n",
      "pytorch-1.10.2       | 193.4 MB  | #######1   |  71% \n",
      "pytorch-1.10.2       | 193.4 MB  | #######1   |  71% \n",
      "pytorch-1.10.2       | 193.4 MB  | #######1   |  71% \n",
      "pytorch-1.10.2       | 193.4 MB  | #######1   |  71% \n",
      "pytorch-1.10.2       | 193.4 MB  | #######1   |  72% \n",
      "pytorch-1.10.2       | 193.4 MB  | #######1   |  72% \n",
      "pytorch-1.10.2       | 193.4 MB  | #######1   |  72% \n",
      "pytorch-1.10.2       | 193.4 MB  | #######2   |  72% \n",
      "pytorch-1.10.2       | 193.4 MB  | #######2   |  72% \n",
      "pytorch-1.10.2       | 193.4 MB  | #######2   |  72% \n",
      "pytorch-1.10.2       | 193.4 MB  | #######2   |  72% \n",
      "pytorch-1.10.2       | 193.4 MB  | #######2   |  73% \n",
      "pytorch-1.10.2       | 193.4 MB  | #######2   |  73% \n",
      "pytorch-1.10.2       | 193.4 MB  | #######2   |  73% \n",
      "pytorch-1.10.2       | 193.4 MB  | #######3   |  73% \n",
      "pytorch-1.10.2       | 193.4 MB  | #######3   |  73% \n",
      "pytorch-1.10.2       | 193.4 MB  | #######3   |  73% \n",
      "pytorch-1.10.2       | 193.4 MB  | #######3   |  73% \n",
      "pytorch-1.10.2       | 193.4 MB  | #######3   |  74% \n",
      "pytorch-1.10.2       | 193.4 MB  | #######3   |  74% \n",
      "pytorch-1.10.2       | 193.4 MB  | #######3   |  74% \n",
      "pytorch-1.10.2       | 193.4 MB  | #######4   |  74% \n",
      "pytorch-1.10.2       | 193.4 MB  | #######4   |  74% \n",
      "pytorch-1.10.2       | 193.4 MB  | #######4   |  74% \n",
      "pytorch-1.10.2       | 193.4 MB  | #######4   |  74% \n",
      "pytorch-1.10.2       | 193.4 MB  | #######4   |  75% \n",
      "pytorch-1.10.2       | 193.4 MB  | #######4   |  75% \n",
      "pytorch-1.10.2       | 193.4 MB  | #######4   |  75% \n",
      "pytorch-1.10.2       | 193.4 MB  | #######5   |  75% \n",
      "pytorch-1.10.2       | 193.4 MB  | #######5   |  75% \n",
      "pytorch-1.10.2       | 193.4 MB  | #######5   |  75% \n",
      "pytorch-1.10.2       | 193.4 MB  | #######5   |  75% \n",
      "pytorch-1.10.2       | 193.4 MB  | #######5   |  76% \n",
      "pytorch-1.10.2       | 193.4 MB  | #######5   |  76% \n",
      "pytorch-1.10.2       | 193.4 MB  | #######5   |  76% \n",
      "pytorch-1.10.2       | 193.4 MB  | #######6   |  76% \n",
      "pytorch-1.10.2       | 193.4 MB  | #######6   |  76% \n",
      "pytorch-1.10.2       | 193.4 MB  | #######6   |  76% \n",
      "pytorch-1.10.2       | 193.4 MB  | #######6   |  76% \n",
      "pytorch-1.10.2       | 193.4 MB  | #######6   |  77% \n",
      "pytorch-1.10.2       | 193.4 MB  | #######6   |  77% \n",
      "pytorch-1.10.2       | 193.4 MB  | #######6   |  77% \n",
      "pytorch-1.10.2       | 193.4 MB  | #######7   |  77% \n",
      "pytorch-1.10.2       | 193.4 MB  | #######7   |  77% \n",
      "pytorch-1.10.2       | 193.4 MB  | #######7   |  77% \n",
      "pytorch-1.10.2       | 193.4 MB  | #######7   |  77% \n",
      "pytorch-1.10.2       | 193.4 MB  | #######7   |  78% \n",
      "pytorch-1.10.2       | 193.4 MB  | #######7   |  78% \n",
      "pytorch-1.10.2       | 193.4 MB  | #######7   |  78% \n",
      "pytorch-1.10.2       | 193.4 MB  | #######7   |  78% \n",
      "pytorch-1.10.2       | 193.4 MB  | #######8   |  78% \n",
      "pytorch-1.10.2       | 193.4 MB  | #######8   |  78% \n",
      "pytorch-1.10.2       | 193.4 MB  | #######8   |  78% \n",
      "pytorch-1.10.2       | 193.4 MB  | #######8   |  79% \n",
      "pytorch-1.10.2       | 193.4 MB  | #######8   |  79% \n",
      "pytorch-1.10.2       | 193.4 MB  | #######8   |  79% \n",
      "pytorch-1.10.2       | 193.4 MB  | #######8   |  79% \n",
      "pytorch-1.10.2       | 193.4 MB  | #######9   |  79% \n",
      "pytorch-1.10.2       | 193.4 MB  | #######9   |  79% \n",
      "pytorch-1.10.2       | 193.4 MB  | #######9   |  79% \n",
      "pytorch-1.10.2       | 193.4 MB  | #######9   |  80% \n",
      "pytorch-1.10.2       | 193.4 MB  | #######9   |  80% \n",
      "pytorch-1.10.2       | 193.4 MB  | #######9   |  80% \n",
      "pytorch-1.10.2       | 193.4 MB  | #######9   |  80% \n",
      "pytorch-1.10.2       | 193.4 MB  | ########   |  80% \n",
      "pytorch-1.10.2       | 193.4 MB  | ########   |  81% \n",
      "pytorch-1.10.2       | 193.4 MB  | ########   |  81% \n",
      "pytorch-1.10.2       | 193.4 MB  | ########   |  81% \n",
      "pytorch-1.10.2       | 193.4 MB  | ########1  |  81% \n",
      "pytorch-1.10.2       | 193.4 MB  | ########1  |  81% \n",
      "pytorch-1.10.2       | 193.4 MB  | ########1  |  81% \n",
      "pytorch-1.10.2       | 193.4 MB  | ########1  |  81% \n",
      "pytorch-1.10.2       | 193.4 MB  | ########1  |  82% \n",
      "pytorch-1.10.2       | 193.4 MB  | ########1  |  82% \n",
      "pytorch-1.10.2       | 193.4 MB  | ########1  |  82% \n",
      "pytorch-1.10.2       | 193.4 MB  | ########2  |  82% \n",
      "pytorch-1.10.2       | 193.4 MB  | ########2  |  82% \n",
      "pytorch-1.10.2       | 193.4 MB  | ########2  |  82% \n",
      "pytorch-1.10.2       | 193.4 MB  | ########2  |  82% \n",
      "pytorch-1.10.2       | 193.4 MB  | ########2  |  83% \n",
      "pytorch-1.10.2       | 193.4 MB  | ########2  |  83% \n",
      "pytorch-1.10.2       | 193.4 MB  | ########2  |  83% \n",
      "pytorch-1.10.2       | 193.4 MB  | ########3  |  83% \n",
      "pytorch-1.10.2       | 193.4 MB  | ########3  |  83% \n",
      "pytorch-1.10.2       | 193.4 MB  | ########3  |  83% \n",
      "pytorch-1.10.2       | 193.4 MB  | ########3  |  83% \n",
      "pytorch-1.10.2       | 193.4 MB  | ########3  |  84% \n",
      "pytorch-1.10.2       | 193.4 MB  | ########3  |  84% \n",
      "pytorch-1.10.2       | 193.4 MB  | ########3  |  84% \n",
      "pytorch-1.10.2       | 193.4 MB  | ########4  |  84% \n",
      "pytorch-1.10.2       | 193.4 MB  | ########4  |  84% \n",
      "pytorch-1.10.2       | 193.4 MB  | ########4  |  84% \n",
      "pytorch-1.10.2       | 193.4 MB  | ########4  |  84% \n",
      "pytorch-1.10.2       | 193.4 MB  | ########4  |  85% \n",
      "pytorch-1.10.2       | 193.4 MB  | ########4  |  85% \n",
      "pytorch-1.10.2       | 193.4 MB  | ########4  |  85% \n",
      "pytorch-1.10.2       | 193.4 MB  | ########5  |  85% \n",
      "pytorch-1.10.2       | 193.4 MB  | ########5  |  85% \n",
      "pytorch-1.10.2       | 193.4 MB  | ########5  |  85% \n",
      "pytorch-1.10.2       | 193.4 MB  | ########5  |  85% \n",
      "pytorch-1.10.2       | 193.4 MB  | ########5  |  86% \n",
      "pytorch-1.10.2       | 193.4 MB  | ########5  |  86% \n",
      "pytorch-1.10.2       | 193.4 MB  | ########5  |  86% \n",
      "pytorch-1.10.2       | 193.4 MB  | ########6  |  86% \n",
      "pytorch-1.10.2       | 193.4 MB  | ########6  |  86% \n",
      "pytorch-1.10.2       | 193.4 MB  | ########6  |  86% \n",
      "pytorch-1.10.2       | 193.4 MB  | ########6  |  87% \n",
      "pytorch-1.10.2       | 193.4 MB  | ########6  |  87% \n",
      "pytorch-1.10.2       | 193.4 MB  | ########6  |  87% \n",
      "pytorch-1.10.2       | 193.4 MB  | ########7  |  87% \n",
      "pytorch-1.10.2       | 193.4 MB  | ########7  |  87% \n",
      "pytorch-1.10.2       | 193.4 MB  | ########7  |  87% \n",
      "pytorch-1.10.2       | 193.4 MB  | ########7  |  88% \n",
      "pytorch-1.10.2       | 193.4 MB  | ########7  |  88% \n",
      "pytorch-1.10.2       | 193.4 MB  | ########7  |  88% \n",
      "pytorch-1.10.2       | 193.4 MB  | ########7  |  88% \n",
      "pytorch-1.10.2       | 193.4 MB  | ########8  |  88% \n",
      "pytorch-1.10.2       | 193.4 MB  | ########8  |  88% \n",
      "pytorch-1.10.2       | 193.4 MB  | ########8  |  88% \n",
      "pytorch-1.10.2       | 193.4 MB  | ########8  |  88% \n",
      "pytorch-1.10.2       | 193.4 MB  | ########8  |  89% \n",
      "pytorch-1.10.2       | 193.4 MB  | ########8  |  89% \n",
      "pytorch-1.10.2       | 193.4 MB  | ########8  |  89% \n",
      "pytorch-1.10.2       | 193.4 MB  | ########9  |  89% \n",
      "pytorch-1.10.2       | 193.4 MB  | ########9  |  89% \n",
      "pytorch-1.10.2       | 193.4 MB  | ########9  |  89% \n",
      "pytorch-1.10.2       | 193.4 MB  | ########9  |  90% \n",
      "pytorch-1.10.2       | 193.4 MB  | ########9  |  90% \n",
      "pytorch-1.10.2       | 193.4 MB  | ########9  |  90% \n",
      "pytorch-1.10.2       | 193.4 MB  | #########  |  90% \n",
      "pytorch-1.10.2       | 193.4 MB  | #########  |  90% \n",
      "pytorch-1.10.2       | 193.4 MB  | #########  |  90% \n",
      "pytorch-1.10.2       | 193.4 MB  | #########  |  91% \n",
      "pytorch-1.10.2       | 193.4 MB  | #########  |  91% \n",
      "pytorch-1.10.2       | 193.4 MB  | #########  |  91% \n",
      "pytorch-1.10.2       | 193.4 MB  | #########  |  91% \n",
      "pytorch-1.10.2       | 193.4 MB  | #########1 |  91% \n",
      "pytorch-1.10.2       | 193.4 MB  | #########1 |  91% \n",
      "pytorch-1.10.2       | 193.4 MB  | #########1 |  91% \n",
      "pytorch-1.10.2       | 193.4 MB  | #########1 |  92% \n",
      "pytorch-1.10.2       | 193.4 MB  | #########1 |  92% \n",
      "pytorch-1.10.2       | 193.4 MB  | #########1 |  92% \n",
      "pytorch-1.10.2       | 193.4 MB  | #########2 |  92% \n",
      "pytorch-1.10.2       | 193.4 MB  | #########2 |  92% \n",
      "pytorch-1.10.2       | 193.4 MB  | #########2 |  92% \n",
      "pytorch-1.10.2       | 193.4 MB  | #########2 |  92% \n",
      "pytorch-1.10.2       | 193.4 MB  | #########2 |  93% \n",
      "pytorch-1.10.2       | 193.4 MB  | #########2 |  93% \n",
      "pytorch-1.10.2       | 193.4 MB  | #########2 |  93% \n",
      "pytorch-1.10.2       | 193.4 MB  | #########3 |  93% \n",
      "pytorch-1.10.2       | 193.4 MB  | #########3 |  93% \n",
      "pytorch-1.10.2       | 193.4 MB  | #########3 |  93% \n",
      "pytorch-1.10.2       | 193.4 MB  | #########3 |  94% \n",
      "pytorch-1.10.2       | 193.4 MB  | #########3 |  94% \n",
      "pytorch-1.10.2       | 193.4 MB  | #########3 |  94% \n",
      "pytorch-1.10.2       | 193.4 MB  | #########3 |  94% \n",
      "pytorch-1.10.2       | 193.4 MB  | #########4 |  94% \n",
      "pytorch-1.10.2       | 193.4 MB  | #########4 |  94% \n",
      "pytorch-1.10.2       | 193.4 MB  | #########4 |  94% \n",
      "pytorch-1.10.2       | 193.4 MB  | #########4 |  95% \n",
      "pytorch-1.10.2       | 193.4 MB  | #########4 |  95% \n",
      "pytorch-1.10.2       | 193.4 MB  | #########4 |  95% \n",
      "pytorch-1.10.2       | 193.4 MB  | #########4 |  95% \n",
      "pytorch-1.10.2       | 193.4 MB  | #########5 |  95% \n",
      "pytorch-1.10.2       | 193.4 MB  | #########5 |  95% \n",
      "pytorch-1.10.2       | 193.4 MB  | #########5 |  95% \n",
      "pytorch-1.10.2       | 193.4 MB  | #########5 |  95% \n",
      "pytorch-1.10.2       | 193.4 MB  | #########5 |  96% \n",
      "pytorch-1.10.2       | 193.4 MB  | #########5 |  96% \n",
      "pytorch-1.10.2       | 193.4 MB  | #########5 |  96% \n",
      "pytorch-1.10.2       | 193.4 MB  | #########6 |  96% \n",
      "pytorch-1.10.2       | 193.4 MB  | #########6 |  96% \n",
      "pytorch-1.10.2       | 193.4 MB  | #########6 |  96% \n",
      "pytorch-1.10.2       | 193.4 MB  | #########6 |  96% \n",
      "pytorch-1.10.2       | 193.4 MB  | #########6 |  97% \n",
      "pytorch-1.10.2       | 193.4 MB  | #########6 |  97% \n",
      "pytorch-1.10.2       | 193.4 MB  | #########6 |  97% \n",
      "pytorch-1.10.2       | 193.4 MB  | #########7 |  97% \n",
      "pytorch-1.10.2       | 193.4 MB  | #########7 |  97% \n",
      "pytorch-1.10.2       | 193.4 MB  | #########7 |  97% \n",
      "pytorch-1.10.2       | 193.4 MB  | #########7 |  97% \n",
      "pytorch-1.10.2       | 193.4 MB  | #########7 |  98% \n",
      "pytorch-1.10.2       | 193.4 MB  | #########7 |  98% \n",
      "pytorch-1.10.2       | 193.4 MB  | #########7 |  98% \n",
      "pytorch-1.10.2       | 193.4 MB  | #########7 |  98% \n",
      "pytorch-1.10.2       | 193.4 MB  | #########8 |  98% \n",
      "pytorch-1.10.2       | 193.4 MB  | #########8 |  98% \n",
      "pytorch-1.10.2       | 193.4 MB  | #########8 |  98% \n",
      "pytorch-1.10.2       | 193.4 MB  | #########8 |  99% \n",
      "pytorch-1.10.2       | 193.4 MB  | #########8 |  99% \n",
      "pytorch-1.10.2       | 193.4 MB  | #########8 |  99% \n",
      "pytorch-1.10.2       | 193.4 MB  | #########8 |  99% \n"
     ]
    },
    {
     "name": "stdout",
     "output_type": "stream",
     "text": [
      "pytorch-1.10.2       | 193.4 MB  | #########9 |  99% \n",
      "pytorch-1.10.2       | 193.4 MB  | #########9 |  99% \n",
      "pytorch-1.10.2       | 193.4 MB  | #########9 |  99% \n",
      "pytorch-1.10.2       | 193.4 MB  | #########9 |  99% \n",
      "pytorch-1.10.2       | 193.4 MB  | #########9 | 100% \n",
      "pytorch-1.10.2       | 193.4 MB  | #########9 | 100% \n",
      "pytorch-1.10.2       | 193.4 MB  | #########9 | 100% \n",
      "pytorch-1.10.2       | 193.4 MB  | ########## | 100% \n",
      "\n",
      "torchaudio-0.10.2    | 2.1 MB    |            |   0% \n",
      "torchaudio-0.10.2    | 2.1 MB    |            |   1% \n",
      "torchaudio-0.10.2    | 2.1 MB    | 2          |   3% \n",
      "torchaudio-0.10.2    | 2.1 MB    | 5          |   6% \n",
      "torchaudio-0.10.2    | 2.1 MB    | #1         |  12% \n",
      "torchaudio-0.10.2    | 2.1 MB    | #7         |  18% \n",
      "torchaudio-0.10.2    | 2.1 MB    | ##8        |  29% \n",
      "torchaudio-0.10.2    | 2.1 MB    | ####6      |  47% \n",
      "torchaudio-0.10.2    | 2.1 MB    | #####7     |  57% \n",
      "torchaudio-0.10.2    | 2.1 MB    | ########## | 100% \n",
      "torchaudio-0.10.2    | 2.1 MB    | ########## | 100% \n",
      "\n",
      "pytorch-mutex-1.0    | 3 KB      |            |   0% \n",
      "pytorch-mutex-1.0    | 3 KB      | ########## | 100% \n",
      "pytorch-mutex-1.0    | 3 KB      | ########## | 100% \n",
      "\n",
      "cpuonly-2.0          | 2 KB      |            |   0% \n",
      "cpuonly-2.0          | 2 KB      | ########## | 100% \n",
      "cpuonly-2.0          | 2 KB      | ########## | 100% \n",
      "Preparing transaction: ...working... done\n",
      "Verifying transaction: ...working... done\n",
      "Executing transaction: ...working... done\n"
     ]
    }
   ],
   "source": [
    "conda install pytorch torchvision torchaudio cpuonly -c pytorch"
   ]
  },
  {
   "cell_type": "code",
   "execution_count": 2,
   "id": "ffcf8202",
   "metadata": {},
   "outputs": [],
   "source": [
    "import torch"
   ]
  },
  {
   "cell_type": "code",
   "execution_count": 3,
   "id": "631ccb3f",
   "metadata": {},
   "outputs": [],
   "source": [
    "import numpy as np"
   ]
  },
  {
   "cell_type": "code",
   "execution_count": 4,
   "id": "3270795f",
   "metadata": {},
   "outputs": [],
   "source": [
    "data=[[9,10],\n",
    "     [4,5],\n",
    "     [12,13]]\n",
    "tensor_data=torch.tensor(data)"
   ]
  },
  {
   "cell_type": "code",
   "execution_count": 6,
   "id": "f87560f9",
   "metadata": {},
   "outputs": [
    {
     "name": "stdout",
     "output_type": "stream",
     "text": [
      "tensor([[ 9, 10],\n",
      "        [ 4,  5],\n",
      "        [12, 13]])\n"
     ]
    }
   ],
   "source": [
    "print(tensor_data)"
   ]
  },
  {
   "cell_type": "code",
   "execution_count": 7,
   "id": "d25a9dd6",
   "metadata": {},
   "outputs": [
    {
     "name": "stdout",
     "output_type": "stream",
     "text": [
      "<class 'torch.Tensor'>\n"
     ]
    }
   ],
   "source": [
    "print(type(tensor_data))"
   ]
  },
  {
   "cell_type": "code",
   "execution_count": 8,
   "id": "51459d27",
   "metadata": {},
   "outputs": [
    {
     "data": {
      "text/plain": [
       "tensor([ 9, 10])"
      ]
     },
     "execution_count": 8,
     "metadata": {},
     "output_type": "execute_result"
    }
   ],
   "source": [
    "tensor_data[0]"
   ]
  },
  {
   "cell_type": "code",
   "execution_count": 9,
   "id": "07b273f0",
   "metadata": {},
   "outputs": [
    {
     "data": {
      "text/plain": [
       "tensor(9)"
      ]
     },
     "execution_count": 9,
     "metadata": {},
     "output_type": "execute_result"
    }
   ],
   "source": [
    "tensor_data[0][0]"
   ]
  },
  {
   "cell_type": "code",
   "execution_count": 10,
   "id": "1e3fc8a1",
   "metadata": {},
   "outputs": [
    {
     "data": {
      "text/plain": [
       "tensor(9)"
      ]
     },
     "execution_count": 10,
     "metadata": {},
     "output_type": "execute_result"
    }
   ],
   "source": [
    "tensor_data[0,0]"
   ]
  },
  {
   "cell_type": "code",
   "execution_count": 11,
   "id": "5bb6fb31",
   "metadata": {},
   "outputs": [],
   "source": [
    "np_data=np.array([[ 9, 10],\n",
    "        [ 4,  5],\n",
    "        [12, 13]])"
   ]
  },
  {
   "cell_type": "code",
   "execution_count": 12,
   "id": "67c661ce",
   "metadata": {},
   "outputs": [
    {
     "name": "stdout",
     "output_type": "stream",
     "text": [
      "tensor([[ 9, 10],\n",
      "        [ 4,  5],\n",
      "        [12, 13]], dtype=torch.int32)\n"
     ]
    }
   ],
   "source": [
    "tensor_data_np=torch.tensor(np_data)\n",
    "print(tensor_data_np)"
   ]
  },
  {
   "cell_type": "code",
   "execution_count": 13,
   "id": "b8a660a2",
   "metadata": {},
   "outputs": [
    {
     "name": "stdout",
     "output_type": "stream",
     "text": [
      "<class 'torch.Tensor'>\n"
     ]
    }
   ],
   "source": [
    "print(type(tensor_data_np))"
   ]
  },
  {
   "cell_type": "code",
   "execution_count": 14,
   "id": "c4bc6852",
   "metadata": {},
   "outputs": [],
   "source": [
    "ones_like_data=torch.ones_like(tensor_data_np)"
   ]
  },
  {
   "cell_type": "code",
   "execution_count": 15,
   "id": "d721b075",
   "metadata": {},
   "outputs": [
    {
     "data": {
      "text/plain": [
       "tensor([[1, 1],\n",
       "        [1, 1],\n",
       "        [1, 1]], dtype=torch.int32)"
      ]
     },
     "execution_count": 15,
     "metadata": {},
     "output_type": "execute_result"
    }
   ],
   "source": [
    "ones_like_data"
   ]
  },
  {
   "cell_type": "code",
   "execution_count": 16,
   "id": "a0e009d0",
   "metadata": {},
   "outputs": [
    {
     "ename": "TypeError",
     "evalue": "ones_like(): argument 'input' (position 1) must be Tensor, not numpy.ndarray",
     "output_type": "error",
     "traceback": [
      "\u001b[1;31m---------------------------------------------------------------------------\u001b[0m",
      "\u001b[1;31mTypeError\u001b[0m                                 Traceback (most recent call last)",
      "\u001b[1;32m~\\AppData\\Local\\Temp\\ipykernel_9716\\3692430101.py\u001b[0m in \u001b[0;36m<module>\u001b[1;34m\u001b[0m\n\u001b[1;32m----> 1\u001b[1;33m \u001b[0mones_like_data\u001b[0m\u001b[1;33m=\u001b[0m\u001b[0mtorch\u001b[0m\u001b[1;33m.\u001b[0m\u001b[0mones_like\u001b[0m\u001b[1;33m(\u001b[0m\u001b[0mnp_data\u001b[0m\u001b[1;33m)\u001b[0m\u001b[1;33m\u001b[0m\u001b[0m\n\u001b[0m",
      "\u001b[1;31mTypeError\u001b[0m: ones_like(): argument 'input' (position 1) must be Tensor, not numpy.ndarray"
     ]
    }
   ],
   "source": [
    "ones_like_data=torch.ones_like(np_data)"
   ]
  },
  {
   "cell_type": "code",
   "execution_count": 17,
   "id": "1f785d47",
   "metadata": {},
   "outputs": [
    {
     "ename": "TypeError",
     "evalue": "ones_like(): argument 'input' (position 1) must be Tensor, not list",
     "output_type": "error",
     "traceback": [
      "\u001b[1;31m---------------------------------------------------------------------------\u001b[0m",
      "\u001b[1;31mTypeError\u001b[0m                                 Traceback (most recent call last)",
      "\u001b[1;32m~\\AppData\\Local\\Temp\\ipykernel_9716\\1347456873.py\u001b[0m in \u001b[0;36m<module>\u001b[1;34m\u001b[0m\n\u001b[1;32m----> 1\u001b[1;33m \u001b[0mones_like_data\u001b[0m\u001b[1;33m=\u001b[0m\u001b[0mtorch\u001b[0m\u001b[1;33m.\u001b[0m\u001b[0mones_like\u001b[0m\u001b[1;33m(\u001b[0m\u001b[0mdata\u001b[0m\u001b[1;33m)\u001b[0m\u001b[1;33m\u001b[0m\u001b[0m\n\u001b[0m",
      "\u001b[1;31mTypeError\u001b[0m: ones_like(): argument 'input' (position 1) must be Tensor, not list"
     ]
    }
   ],
   "source": [
    "ones_like_data=torch.ones_like(data)"
   ]
  },
  {
   "cell_type": "code",
   "execution_count": 19,
   "id": "dc756430",
   "metadata": {},
   "outputs": [
    {
     "ename": "RuntimeError",
     "evalue": "\"check_uniform_bounds\" not implemented for 'Int'",
     "output_type": "error",
     "traceback": [
      "\u001b[1;31m---------------------------------------------------------------------------\u001b[0m",
      "\u001b[1;31mRuntimeError\u001b[0m                              Traceback (most recent call last)",
      "\u001b[1;32m~\\AppData\\Local\\Temp\\ipykernel_9716\\4077835103.py\u001b[0m in \u001b[0;36m<module>\u001b[1;34m\u001b[0m\n\u001b[1;32m----> 1\u001b[1;33m \u001b[0mones_like_data_random\u001b[0m\u001b[1;33m=\u001b[0m\u001b[0mtorch\u001b[0m\u001b[1;33m.\u001b[0m\u001b[0mrand_like\u001b[0m\u001b[1;33m(\u001b[0m\u001b[0mtensor_data_np\u001b[0m\u001b[1;33m)\u001b[0m\u001b[1;33m\u001b[0m\u001b[0m\n\u001b[0m",
      "\u001b[1;31mRuntimeError\u001b[0m: \"check_uniform_bounds\" not implemented for 'Int'"
     ]
    }
   ],
   "source": [
    "ones_like_data_random=torch.rand_like(tensor_data_np)"
   ]
  },
  {
   "cell_type": "code",
   "execution_count": 20,
   "id": "24f1b6f1",
   "metadata": {},
   "outputs": [
    {
     "data": {
      "text/plain": [
       "tensor([[0.1879, 0.7290],\n",
       "        [0.1046, 0.9499],\n",
       "        [0.2855, 0.6984]])"
      ]
     },
     "execution_count": 20,
     "metadata": {},
     "output_type": "execute_result"
    }
   ],
   "source": [
    "ones_like_data_random=torch.rand_like(tensor_data_np, dtype=torch.float)\n",
    "ones_like_data_random"
   ]
  },
  {
   "cell_type": "code",
   "execution_count": 22,
   "id": "e9eaec9c",
   "metadata": {},
   "outputs": [
    {
     "data": {
      "text/plain": [
       "tensor([[0.2143, 0.7320, 0.7412],\n",
       "        [0.3081, 0.4433, 0.9821],\n",
       "        [0.3500, 0.5973, 0.9689],\n",
       "        [0.3149, 0.6891, 0.3163]])"
      ]
     },
     "execution_count": 22,
     "metadata": {},
     "output_type": "execute_result"
    }
   ],
   "source": [
    "shape=(4,3)\n",
    "random_tensor=torch.rand(shape)\n",
    "random_tensor"
   ]
  },
  {
   "cell_type": "code",
   "execution_count": 23,
   "id": "3c9ee602",
   "metadata": {},
   "outputs": [
    {
     "data": {
      "text/plain": [
       "tensor([[[0.6620, 0.5081],\n",
       "         [0.7427, 0.2086],\n",
       "         [0.7774, 0.8103]],\n",
       "\n",
       "        [[0.9848, 0.3198],\n",
       "         [0.6257, 0.2660],\n",
       "         [0.9110, 0.7052]],\n",
       "\n",
       "        [[0.4326, 0.8597],\n",
       "         [0.8529, 0.1311],\n",
       "         [0.3769, 0.8790]],\n",
       "\n",
       "        [[0.9829, 0.7587],\n",
       "         [0.1384, 0.0893],\n",
       "         [0.3661, 0.9153]]])"
      ]
     },
     "execution_count": 23,
     "metadata": {},
     "output_type": "execute_result"
    }
   ],
   "source": [
    "shape=(4,3,2)\n",
    "rand_tensor=torch.rand(shape)\n",
    "rand_tensor"
   ]
  },
  {
   "cell_type": "code",
   "execution_count": 24,
   "id": "2e283b16",
   "metadata": {},
   "outputs": [
    {
     "data": {
      "text/plain": [
       "torch.Size([4, 3, 2])"
      ]
     },
     "execution_count": 24,
     "metadata": {},
     "output_type": "execute_result"
    }
   ],
   "source": [
    "rand_tensor.shape"
   ]
  },
  {
   "cell_type": "code",
   "execution_count": 25,
   "id": "d1d48c3c",
   "metadata": {},
   "outputs": [],
   "source": [
    "ones=torch.ones(shape)"
   ]
  },
  {
   "cell_type": "code",
   "execution_count": 26,
   "id": "336009ee",
   "metadata": {},
   "outputs": [
    {
     "data": {
      "text/plain": [
       "tensor([[[1., 1.],\n",
       "         [1., 1.],\n",
       "         [1., 1.]],\n",
       "\n",
       "        [[1., 1.],\n",
       "         [1., 1.],\n",
       "         [1., 1.]],\n",
       "\n",
       "        [[1., 1.],\n",
       "         [1., 1.],\n",
       "         [1., 1.]],\n",
       "\n",
       "        [[1., 1.],\n",
       "         [1., 1.],\n",
       "         [1., 1.]]])"
      ]
     },
     "execution_count": 26,
     "metadata": {},
     "output_type": "execute_result"
    }
   ],
   "source": [
    "ones"
   ]
  },
  {
   "cell_type": "code",
   "execution_count": 27,
   "id": "fc7fd617",
   "metadata": {},
   "outputs": [
    {
     "data": {
      "text/plain": [
       "tensor([[[0., 0.],\n",
       "         [0., 0.],\n",
       "         [0., 0.]],\n",
       "\n",
       "        [[0., 0.],\n",
       "         [0., 0.],\n",
       "         [0., 0.]],\n",
       "\n",
       "        [[0., 0.],\n",
       "         [0., 0.],\n",
       "         [0., 0.]],\n",
       "\n",
       "        [[0., 0.],\n",
       "         [0., 0.],\n",
       "         [0., 0.]]])"
      ]
     },
     "execution_count": 27,
     "metadata": {},
     "output_type": "execute_result"
    }
   ],
   "source": [
    "zeros=torch.zeros(shape)\n",
    "zeros"
   ]
  },
  {
   "cell_type": "code",
   "execution_count": 28,
   "id": "33b85389",
   "metadata": {},
   "outputs": [
    {
     "data": {
      "text/plain": [
       "torch.Size([4, 3, 2])"
      ]
     },
     "execution_count": 28,
     "metadata": {},
     "output_type": "execute_result"
    }
   ],
   "source": [
    "rand_tensor.shape"
   ]
  },
  {
   "cell_type": "code",
   "execution_count": 29,
   "id": "f56fbf08",
   "metadata": {},
   "outputs": [
    {
     "data": {
      "text/plain": [
       "torch.float32"
      ]
     },
     "execution_count": 29,
     "metadata": {},
     "output_type": "execute_result"
    }
   ],
   "source": [
    "rand_tensor.dtype"
   ]
  },
  {
   "cell_type": "code",
   "execution_count": 30,
   "id": "8157554c",
   "metadata": {},
   "outputs": [
    {
     "data": {
      "text/plain": [
       "device(type='cpu')"
      ]
     },
     "execution_count": 30,
     "metadata": {},
     "output_type": "execute_result"
    }
   ],
   "source": [
    "rand_tensor.device"
   ]
  },
  {
   "cell_type": "code",
   "execution_count": 31,
   "id": "21a253bc",
   "metadata": {},
   "outputs": [
    {
     "data": {
      "text/plain": [
       "False"
      ]
     },
     "execution_count": 31,
     "metadata": {},
     "output_type": "execute_result"
    }
   ],
   "source": [
    "torch.cuda.is_available()"
   ]
  },
  {
   "cell_type": "code",
   "execution_count": null,
   "id": "60a11929",
   "metadata": {},
   "outputs": [],
   "source": []
  }
 ],
 "metadata": {
  "kernelspec": {
   "display_name": "Python 3 (ipykernel)",
   "language": "python",
   "name": "python3"
  },
  "language_info": {
   "codemirror_mode": {
    "name": "ipython",
    "version": 3
   },
   "file_extension": ".py",
   "mimetype": "text/x-python",
   "name": "python",
   "nbconvert_exporter": "python",
   "pygments_lexer": "ipython3",
   "version": "3.7.0"
  }
 },
 "nbformat": 4,
 "nbformat_minor": 5
}
