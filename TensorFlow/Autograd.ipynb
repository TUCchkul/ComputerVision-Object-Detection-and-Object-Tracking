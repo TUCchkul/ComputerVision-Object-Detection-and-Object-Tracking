{
 "cells": [
  {
   "cell_type": "markdown",
   "id": "51f3ef23",
   "metadata": {},
   "source": [
    "# Checkpointing to restore the matrix value"
   ]
  },
  {
   "cell_type": "code",
   "execution_count": 2,
   "id": "fa14dad1",
   "metadata": {},
   "outputs": [],
   "source": [
    "import tensorflow as tf"
   ]
  },
  {
   "cell_type": "code",
   "execution_count": 3,
   "id": "24ddccdc",
   "metadata": {},
   "outputs": [
    {
     "data": {
      "text/plain": [
       "<tf.Variable 'Variable:0' shape=(5, 5) dtype=float32, numpy=\n",
       "array([[5., 5., 5., 5., 5.],\n",
       "       [5., 5., 5., 5., 5.],\n",
       "       [5., 5., 5., 5., 5.],\n",
       "       [5., 5., 5., 5., 5.],\n",
       "       [5., 5., 5., 5., 5.]], dtype=float32)>"
      ]
     },
     "execution_count": 3,
     "metadata": {},
     "output_type": "execute_result"
    }
   ],
   "source": [
    "var1=tf.Variable(5*tf.ones((5,5)))\n",
    "var1"
   ]
  },
  {
   "cell_type": "code",
   "execution_count": 4,
   "id": "be0ba48f",
   "metadata": {},
   "outputs": [],
   "source": [
    "ckpt=tf.train.Checkpoint(var=var1)\n",
    "savepath=ckpt.save(\"./vars.ckpt\")"
   ]
  },
  {
   "cell_type": "code",
   "execution_count": 5,
   "id": "e11fea7f",
   "metadata": {},
   "outputs": [
    {
     "data": {
      "text/plain": [
       "<tf.Variable 'UnreadVariable' shape=(5, 5) dtype=float32, numpy=\n",
       "array([[0., 0., 0., 0., 0.],\n",
       "       [0., 0., 0., 0., 0.],\n",
       "       [0., 0., 0., 0., 0.],\n",
       "       [0., 0., 0., 0., 0.],\n",
       "       [0., 0., 0., 0., 0.]], dtype=float32)>"
      ]
     },
     "execution_count": 5,
     "metadata": {},
     "output_type": "execute_result"
    }
   ],
   "source": [
    "var1.assign(tf.zeros((5,5)))"
   ]
  },
  {
   "cell_type": "code",
   "execution_count": 6,
   "id": "6e1634a2",
   "metadata": {},
   "outputs": [
    {
     "data": {
      "text/plain": [
       "<tf.Variable 'Variable:0' shape=(5, 5) dtype=float32, numpy=\n",
       "array([[0., 0., 0., 0., 0.],\n",
       "       [0., 0., 0., 0., 0.],\n",
       "       [0., 0., 0., 0., 0.],\n",
       "       [0., 0., 0., 0., 0.],\n",
       "       [0., 0., 0., 0., 0.]], dtype=float32)>"
      ]
     },
     "execution_count": 6,
     "metadata": {},
     "output_type": "execute_result"
    }
   ],
   "source": [
    "var1"
   ]
  },
  {
   "cell_type": "code",
   "execution_count": 7,
   "id": "d7986870",
   "metadata": {},
   "outputs": [
    {
     "data": {
      "text/plain": [
       "<tensorflow.python.training.tracking.util.CheckpointLoadStatus at 0x2428e0a2048>"
      ]
     },
     "execution_count": 7,
     "metadata": {},
     "output_type": "execute_result"
    }
   ],
   "source": [
    "ckpt.restore(savepath)"
   ]
  },
  {
   "cell_type": "code",
   "execution_count": 8,
   "id": "d6410a34",
   "metadata": {},
   "outputs": [
    {
     "data": {
      "text/plain": [
       "<tf.Variable 'Variable:0' shape=(5, 5) dtype=float32, numpy=\n",
       "array([[5., 5., 5., 5., 5.],\n",
       "       [5., 5., 5., 5., 5.],\n",
       "       [5., 5., 5., 5., 5.],\n",
       "       [5., 5., 5., 5., 5.],\n",
       "       [5., 5., 5., 5., 5.]], dtype=float32)>"
      ]
     },
     "execution_count": 8,
     "metadata": {},
     "output_type": "execute_result"
    }
   ],
   "source": [
    "var1"
   ]
  },
  {
   "cell_type": "markdown",
   "id": "159f15ca",
   "metadata": {},
   "source": [
    "# tf.function"
   ]
  },
  {
   "cell_type": "markdown",
   "id": "586d16aa",
   "metadata": {},
   "source": [
    "$ z= x^3 * 6+ y^3 $"
   ]
  },
  {
   "cell_type": "code",
   "execution_count": 9,
   "id": "ab5cca1b",
   "metadata": {},
   "outputs": [],
   "source": [
    "def f1(x,y):\n",
    "    input_var=tf.multiply(x**3,6)+ y**3\n",
    "    return tf.reduce_mean(input_tensor=input_var)"
   ]
  },
  {
   "cell_type": "code",
   "execution_count": 10,
   "id": "d2117acc",
   "metadata": {},
   "outputs": [],
   "source": [
    "func=tf.function(f1)"
   ]
  },
  {
   "cell_type": "code",
   "execution_count": 11,
   "id": "054bae19",
   "metadata": {},
   "outputs": [],
   "source": [
    "x=tf.constant([3., -4.])\n",
    "y=tf.constant([1., 4.])"
   ]
  },
  {
   "cell_type": "code",
   "execution_count": 12,
   "id": "8e0c53aa",
   "metadata": {},
   "outputs": [
    {
     "data": {
      "text/plain": [
       "<tf.Tensor: shape=(), dtype=float32, numpy=-78.5>"
      ]
     },
     "execution_count": 12,
     "metadata": {},
     "output_type": "execute_result"
    }
   ],
   "source": [
    "f1(x,y)"
   ]
  },
  {
   "cell_type": "code",
   "execution_count": 13,
   "id": "a567980e",
   "metadata": {},
   "outputs": [],
   "source": [
    "@tf.function ## df decorator function\n",
    "def f2(x,y):\n",
    "    input_var=tf.multiply(x**3,6) + y**3\n",
    "    return tf.reduce_mean(input_tensor=input_var)"
   ]
  },
  {
   "cell_type": "code",
   "execution_count": 14,
   "id": "8fd44f8a",
   "metadata": {},
   "outputs": [
    {
     "data": {
      "text/plain": [
       "<tf.Tensor: shape=(), dtype=float32, numpy=-78.5>"
      ]
     },
     "execution_count": 14,
     "metadata": {},
     "output_type": "execute_result"
    }
   ],
   "source": [
    "f2(x,y)"
   ]
  },
  {
   "cell_type": "code",
   "execution_count": 15,
   "id": "dbd31193",
   "metadata": {},
   "outputs": [],
   "source": [
    "def print_me():\n",
    "    print(\"Hi FSDS\")"
   ]
  },
  {
   "cell_type": "code",
   "execution_count": 16,
   "id": "75f29a70",
   "metadata": {},
   "outputs": [
    {
     "name": "stdout",
     "output_type": "stream",
     "text": [
      "Hi FSDS\n"
     ]
    }
   ],
   "source": [
    "print_me()"
   ]
  },
  {
   "cell_type": "code",
   "execution_count": 19,
   "id": "0371b428",
   "metadata": {},
   "outputs": [
    {
     "name": "stdout",
     "output_type": "stream",
     "text": [
      "****************************************\n",
      "Hi FSDS\n",
      "****************************************\n"
     ]
    }
   ],
   "source": [
    "print(\"**\"*20)\n",
    "print_me()\n",
    "print(\"**\"*20)"
   ]
  },
  {
   "cell_type": "code",
   "execution_count": 23,
   "id": "17140c13",
   "metadata": {},
   "outputs": [],
   "source": [
    "def decorated_it(input_func):\n",
    "    def decorated_func():\n",
    "        print(\"**\"*20)\n",
    "        input_func()\n",
    "        print(\"**\"*20)\n",
    "        \n",
    "    return decorated_func"
   ]
  },
  {
   "cell_type": "code",
   "execution_count": 24,
   "id": "05645aa9",
   "metadata": {},
   "outputs": [
    {
     "name": "stdout",
     "output_type": "stream",
     "text": [
      "****************************************\n",
      "Hi FSDS\n",
      "****************************************\n"
     ]
    }
   ],
   "source": [
    "decorated_func=decorated_it(print_me)\n",
    "decorated_func()"
   ]
  },
  {
   "cell_type": "code",
   "execution_count": 26,
   "id": "682c9a25",
   "metadata": {},
   "outputs": [],
   "source": [
    "@decorated_it\n",
    "def print_me2():\n",
    "    print(\"Hi FSDS\")"
   ]
  },
  {
   "cell_type": "code",
   "execution_count": 27,
   "id": "e73c5c5e",
   "metadata": {},
   "outputs": [
    {
     "name": "stdout",
     "output_type": "stream",
     "text": [
      "****************************************\n",
      "Hi FSDS\n",
      "****************************************\n"
     ]
    }
   ],
   "source": [
    "print_me2()"
   ]
  },
  {
   "cell_type": "code",
   "execution_count": 28,
   "id": "701bc159",
   "metadata": {},
   "outputs": [],
   "source": [
    "@decorated_it\n",
    "def print_my_name():\n",
    "    print(\"Kul\")"
   ]
  },
  {
   "cell_type": "code",
   "execution_count": 29,
   "id": "2a7fcddc",
   "metadata": {},
   "outputs": [
    {
     "name": "stdout",
     "output_type": "stream",
     "text": [
      "****************************************\n",
      "Kul\n",
      "****************************************\n"
     ]
    }
   ],
   "source": [
    "print_my_name()"
   ]
  },
  {
   "cell_type": "markdown",
   "id": "de0768cd",
   "metadata": {},
   "source": [
    "# Calculate of Gradient in Tensorflow"
   ]
  },
  {
   "cell_type": "code",
   "execution_count": 30,
   "id": "accf41f6",
   "metadata": {},
   "outputs": [],
   "source": [
    "x=tf.random.normal(shape=(2,2))\n",
    "y=tf.random.normal(shape=(2,2))"
   ]
  },
  {
   "cell_type": "markdown",
   "id": "20a3bb37",
   "metadata": {},
   "source": [
    "$ f(x,y) = \\sqrt{(x^2 +y^2)}$\n",
    "\n",
    "$ \\nabla f(x,y)=\\frac{\\partial f}{\\partial x} \\hat{\\imath} + \\frac\n",
    "{\\partial f}{\\partial y} \\hat{\\jmath}$"
   ]
  },
  {
   "cell_type": "code",
   "execution_count": 31,
   "id": "9510a9f0",
   "metadata": {},
   "outputs": [
    {
     "name": "stdout",
     "output_type": "stream",
     "text": [
      "tf.Tensor(\n",
      "[[ 0.8200404  -0.46563816]\n",
      " [-0.75755364 -0.51135796]], shape=(2, 2), dtype=float32)\n"
     ]
    }
   ],
   "source": [
    "with tf.GradientTape() as tape:\n",
    "    tape.watch(x)### with respect to x\n",
    "    f=tf.sqrt(tf.square(x) +tf.square(y))\n",
    "    df_dx=tape.gradient(f,x)\n",
    "    print(df_dx)"
   ]
  },
  {
   "cell_type": "code",
   "execution_count": 32,
   "id": "b16d72a4",
   "metadata": {},
   "outputs": [
    {
     "name": "stdout",
     "output_type": "stream",
     "text": [
      "tf.Tensor(\n",
      "[[ 0.57230574 -0.88497525]\n",
      " [-0.652773   -0.85936785]], shape=(2, 2), dtype=float32)\n"
     ]
    }
   ],
   "source": [
    "with tf.GradientTape() as tape:\n",
    "    tape.watch(y)# with respect to y\n",
    "    f=tf.sqrt(tf.square(x)+tf.square(y))\n",
    "    df_dy=tape.gradient(f,y)\n",
    "    print(df_dy)"
   ]
  },
  {
   "cell_type": "code",
   "execution_count": 34,
   "id": "ab99e412",
   "metadata": {},
   "outputs": [
    {
     "name": "stdout",
     "output_type": "stream",
     "text": [
      "tf.Tensor(\n",
      "[[ 0.8200404  -0.46563816]\n",
      " [-0.75755364 -0.51135796]], shape=(2, 2), dtype=float32)\n",
      "tf.Tensor(\n",
      "[[ 0.57230574 -0.88497525]\n",
      " [-0.652773   -0.85936785]], shape=(2, 2), dtype=float32)\n"
     ]
    }
   ],
   "source": [
    "with tf.GradientTape() as tape:\n",
    "    tape.watch(x)\n",
    "    tape.watch(y)\n",
    "    f=tf.sqrt(tf.square(x) +tf.square(y))\n",
    "    df_dx,df_dy=tape.gradient(f,[x,y])\n",
    "    print(df_dx)\n",
    "    print(df_dy)"
   ]
  },
  {
   "cell_type": "code",
   "execution_count": 36,
   "id": "0f956644",
   "metadata": {},
   "outputs": [],
   "source": [
    "x=tf.Variable(tf.random.normal(shape=(2,2)))\n",
    "y=tf.Variable(tf.random.normal(shape=(2,2)))"
   ]
  },
  {
   "cell_type": "code",
   "execution_count": 37,
   "id": "1db26353",
   "metadata": {},
   "outputs": [
    {
     "name": "stdout",
     "output_type": "stream",
     "text": [
      "tf.Tensor(\n",
      "[[ 0.9823198   0.8291688 ]\n",
      " [ 0.48610476 -0.9968738 ]], shape=(2, 2), dtype=float32)\n",
      "tf.Tensor(\n",
      "[[ 0.1872106   0.5589984 ]\n",
      " [-0.8739006   0.07901094]], shape=(2, 2), dtype=float32)\n"
     ]
    }
   ],
   "source": [
    "with tf.GradientTape() as tape:\n",
    "    #tape.watch(x)\n",
    "   # tape.watch(y)\n",
    "    f=tf.sqrt(tf.square(x) +tf.square(y))\n",
    "    df_dx,df_dy=tape.gradient(f,[x,y])\n",
    "    print(df_dx)\n",
    "    print(df_dy)"
   ]
  },
  {
   "cell_type": "code",
   "execution_count": 38,
   "id": "382ec58b",
   "metadata": {},
   "outputs": [],
   "source": [
    "x=tf.Variable(3.)\n",
    "y=tf.Variable(2.)"
   ]
  },
  {
   "cell_type": "code",
   "execution_count": 40,
   "id": "0f0199f9",
   "metadata": {},
   "outputs": [
    {
     "name": "stdout",
     "output_type": "stream",
     "text": [
      "tf.Tensor(0.8320503, shape=(), dtype=float32)\n",
      "tf.Tensor(0.5547002, shape=(), dtype=float32)\n"
     ]
    }
   ],
   "source": [
    "with tf.GradientTape() as tape:\n",
    "    f=tf.sqrt(tf.square(x) +tf.square(y))\n",
    "    df_dx,df_dy=tape.gradient(f,[x,y])\n",
    "    print(df_dx)\n",
    "    print(df_dy)"
   ]
  },
  {
   "cell_type": "code",
   "execution_count": 41,
   "id": "0e55b1ef",
   "metadata": {},
   "outputs": [
    {
     "data": {
      "text/plain": [
       "<tf.Tensor: shape=(), dtype=float32, numpy=0.8320503>"
      ]
     },
     "execution_count": 41,
     "metadata": {},
     "output_type": "execute_result"
    }
   ],
   "source": [
    "x/tf.sqrt(tf.square(x) +tf.square(y))"
   ]
  },
  {
   "cell_type": "code",
   "execution_count": 42,
   "id": "e66ae637",
   "metadata": {},
   "outputs": [
    {
     "data": {
      "text/plain": [
       "<tf.Tensor: shape=(), dtype=float32, numpy=0.5547002>"
      ]
     },
     "execution_count": 42,
     "metadata": {},
     "output_type": "execute_result"
    }
   ],
   "source": [
    "y/tf.sqrt(tf.square(x) +tf.square(y))"
   ]
  },
  {
   "cell_type": "code",
   "execution_count": null,
   "id": "cf4ca1d5",
   "metadata": {},
   "outputs": [],
   "source": []
  }
 ],
 "metadata": {
  "kernelspec": {
   "display_name": "Python 3 (ipykernel)",
   "language": "python",
   "name": "python3"
  },
  "language_info": {
   "codemirror_mode": {
    "name": "ipython",
    "version": 3
   },
   "file_extension": ".py",
   "mimetype": "text/x-python",
   "name": "python",
   "nbconvert_exporter": "python",
   "pygments_lexer": "ipython3",
   "version": "3.7.0"
  }
 },
 "nbformat": 4,
 "nbformat_minor": 5
}
