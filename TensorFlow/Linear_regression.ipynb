{
 "cells": [
  {
   "cell_type": "code",
   "execution_count": 2,
   "id": "b96e3738",
   "metadata": {},
   "outputs": [],
   "source": [
    "import tensorflow as tf"
   ]
  },
  {
   "cell_type": "code",
   "execution_count": 9,
   "id": "b7645eb1",
   "metadata": {},
   "outputs": [],
   "source": [
    "True_w=3.0\n",
    "True_b=2.0\n",
    "Num_example=1000\n",
    "x=tf.random.normal(shape=[Num_example])"
   ]
  },
  {
   "cell_type": "code",
   "execution_count": 10,
   "id": "f5ec7d7f",
   "metadata": {},
   "outputs": [
    {
     "data": {
      "text/plain": [
       "TensorShape([1000])"
      ]
     },
     "execution_count": 10,
     "metadata": {},
     "output_type": "execute_result"
    }
   ],
   "source": [
    "x.shape"
   ]
  },
  {
   "cell_type": "code",
   "execution_count": 11,
   "id": "a1d349aa",
   "metadata": {},
   "outputs": [],
   "source": [
    "noise=tf.random.normal(shape=[Num_example])"
   ]
  },
  {
   "cell_type": "code",
   "execution_count": 12,
   "id": "3a2b88d3",
   "metadata": {},
   "outputs": [],
   "source": [
    "y=True_w*x +True_b + noise"
   ]
  },
  {
   "cell_type": "code",
   "execution_count": 13,
   "id": "e8e9be74",
   "metadata": {},
   "outputs": [
    {
     "data": {
      "image/png": "[encoded data removed]",
      "text/plain": [
       "<Figure size 432x288 with 1 Axes>"
      ]
     },
     "metadata": {
      "needs_background": "light"
     },
     "output_type": "display_data"
    }
   ],
   "source": [
    "import matplotlib.pyplot as plt\n",
    "plt.scatter(x,y,c='b')\n",
    "plt.show()"
   ]
  },
  {
   "cell_type": "code",
   "execution_count": 14,
   "id": "ee5be712",
   "metadata": {},
   "outputs": [],
   "source": [
    "y1=True_w*x +True_b # without noise"
   ]
  },
  {
   "cell_type": "code",
   "execution_count": 15,
   "id": "37223e2f",
   "metadata": {},
   "outputs": [
    {
     "data": {
      "image/png": "[encoded data removed]",
      "text/plain": [
       "<Figure size 432x288 with 1 Axes>"
      ]
     },
     "metadata": {
      "needs_background": "light"
     },
     "output_type": "display_data"
    }
   ],
   "source": [
    "plt.scatter(x,y1,c=\"b\")\n",
    "plt.show()"
   ]
  },
  {
   "cell_type": "markdown",
   "id": "a77cc5e8",
   "metadata": {},
   "source": [
    "# Lets define the model"
   ]
  },
  {
   "cell_type": "code",
   "execution_count": 31,
   "id": "1ca42869",
   "metadata": {},
   "outputs": [],
   "source": [
    "class MyModel(tf.Module):\n",
    "    def __init__(self, **kwargs):\n",
    "        super().__init__(**kwargs)\n",
    "        #intialize the weights\n",
    "        self.w=tf.Variable(5.0)\n",
    "        self.b=tf.Variable(0.0)\n",
    "    def __call__(self, x):\n",
    "        return self.w*x+self.b\n",
    "        "
   ]
  },
  {
   "cell_type": "code",
   "execution_count": 17,
   "id": "5ef7670e",
   "metadata": {},
   "outputs": [],
   "source": [
    "class Test:\n",
    "    def __init__(self, x):\n",
    "        self.x=x\n",
    "    def __call__(self):\n",
    "        return self.x**3"
   ]
  },
  {
   "cell_type": "code",
   "execution_count": 20,
   "id": "3d022f40",
   "metadata": {},
   "outputs": [
    {
     "data": {
      "text/plain": [
       "8"
      ]
     },
     "execution_count": 20,
     "metadata": {},
     "output_type": "execute_result"
    }
   ],
   "source": [
    "obj=Test(2)\n",
    "obj()"
   ]
  },
  {
   "cell_type": "code",
   "execution_count": 32,
   "id": "078c6b18",
   "metadata": {},
   "outputs": [],
   "source": [
    "model=MyModel()"
   ]
  },
  {
   "cell_type": "code",
   "execution_count": 24,
   "id": "0dae047d",
   "metadata": {},
   "outputs": [
    {
     "data": {
      "text/plain": [
       "<tf.Tensor: shape=(), dtype=float32, numpy=15.0>"
      ]
     },
     "execution_count": 24,
     "metadata": {},
     "output_type": "execute_result"
    }
   ],
   "source": [
    "model(3)"
   ]
  },
  {
   "cell_type": "code",
   "execution_count": 26,
   "id": "99ac479a",
   "metadata": {},
   "outputs": [
    {
     "data": {
      "text/plain": [
       "<tf.Tensor: shape=(), dtype=float32, numpy=35.0>"
      ]
     },
     "execution_count": 26,
     "metadata": {},
     "output_type": "execute_result"
    }
   ],
   "source": [
    "model(7)"
   ]
  },
  {
   "cell_type": "code",
   "execution_count": 33,
   "id": "ce2bb65c",
   "metadata": {},
   "outputs": [
    {
     "data": {
      "text/plain": [
       "<tf.Variable 'Variable:0' shape=() dtype=float32, numpy=5.0>"
      ]
     },
     "execution_count": 33,
     "metadata": {},
     "output_type": "execute_result"
    }
   ],
   "source": [
    "model.w"
   ]
  },
  {
   "cell_type": "code",
   "execution_count": 34,
   "id": "3479f7e2",
   "metadata": {},
   "outputs": [
    {
     "data": {
      "text/plain": [
       "<tf.Variable 'Variable:0' shape=() dtype=float32, numpy=0.0>"
      ]
     },
     "execution_count": 34,
     "metadata": {},
     "output_type": "execute_result"
    }
   ],
   "source": [
    "model.b"
   ]
  },
  {
   "cell_type": "code",
   "execution_count": 36,
   "id": "89ff6f57",
   "metadata": {},
   "outputs": [
    {
     "data": {
      "text/plain": [
       "(<tf.Variable 'Variable:0' shape=() dtype=float32, numpy=0.0>,\n",
       " <tf.Variable 'Variable:0' shape=() dtype=float32, numpy=5.0>)"
      ]
     },
     "execution_count": 36,
     "metadata": {},
     "output_type": "execute_result"
    }
   ],
   "source": [
    "model.variables"
   ]
  },
  {
   "cell_type": "markdown",
   "id": "e21f4d90",
   "metadata": {},
   "source": [
    "# Define the loss function"
   ]
  },
  {
   "cell_type": "code",
   "execution_count": 37,
   "id": "d5170ffd",
   "metadata": {},
   "outputs": [],
   "source": [
    "def MSE_loss(target_y, predicted_y):\n",
    "    error=target_y-predicted_y\n",
    "    squared_error=tf.square(error)\n",
    "    mse=tf.reduce_mean(squared_error)\n",
    "    return mse"
   ]
  },
  {
   "cell_type": "code",
   "execution_count": 38,
   "id": "e31b15eb",
   "metadata": {},
   "outputs": [
    {
     "data": {
      "image/png": "[encoded data removed]",
      "text/plain": [
       "<Figure size 432x288 with 1 Axes>"
      ]
     },
     "metadata": {
      "needs_background": "light"
     },
     "output_type": "display_data"
    }
   ],
   "source": [
    "plt.scatter(x,y,c=\"b\")\n",
    "pred_y=model(x)\n",
    "plt.scatter(x,pred_y,c=\"r\")\n",
    "plt.show()\n"
   ]
  },
  {
   "cell_type": "code",
   "execution_count": null,
   "id": "5a65deb3",
   "metadata": {},
   "outputs": [],
   "source": []
  }
 ],
 "metadata": {
  "kernelspec": {
   "display_name": "Python 3 (ipykernel)",
   "language": "python",
   "name": "python3"
  },
  "language_info": {
   "codemirror_mode": {
    "name": "ipython",
    "version": 3
   },
   "file_extension": ".py",
   "mimetype": "text/x-python",
   "name": "python",
   "nbconvert_exporter": "python",
   "pygments_lexer": "ipython3",
   "version": "3.7.0"
  }
 },
 "nbformat": 4,
 "nbformat_minor": 5
}
