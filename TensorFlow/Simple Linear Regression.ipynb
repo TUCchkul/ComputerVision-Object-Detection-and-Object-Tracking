{
 "cells": [
  {
   "cell_type": "code",
   "execution_count": 1,
   "id": "98328363",
   "metadata": {},
   "outputs": [],
   "source": [
    "import tensorflow as tf"
   ]
  },
  {
   "cell_type": "markdown",
   "id": "e03860f4",
   "metadata": {},
   "source": [
    "$ f(x)=W.x +b $"
   ]
  },
  {
   "cell_type": "code",
   "execution_count": 17,
   "id": "909395d7",
   "metadata": {},
   "outputs": [],
   "source": [
    "TRUE_W=3.0\n",
    "TRUE_B=2.0\n",
    "NUM_EXAMPLES=1000\n",
    "x=tf.random.normal(shape=[NUM_EXAMPLES])"
   ]
  },
  {
   "cell_type": "code",
   "execution_count": 18,
   "id": "f91c5e5e",
   "metadata": {},
   "outputs": [],
   "source": [
    "noise=tf.random.normal(shape=[NUM_EXAMPLES])"
   ]
  },
  {
   "cell_type": "code",
   "execution_count": 37,
   "id": "da96ff29",
   "metadata": {},
   "outputs": [],
   "source": [
    "y=x*TRUE_W + TRUE_B +noise"
   ]
  },
  {
   "cell_type": "code",
   "execution_count": 38,
   "id": "054b1bd6",
   "metadata": {},
   "outputs": [
    {
     "data": {
      "image/png": "[encoded data removed]",
      "text/plain": [
       "<Figure size 432x288 with 1 Axes>"
      ]
     },
     "metadata": {
      "needs_background": "light"
     },
     "output_type": "display_data"
    }
   ],
   "source": [
    "import matplotlib.pyplot as plt\n",
    "plt.scatter(x,y,c=\"r\")\n",
    "plt.show()"
   ]
  },
  {
   "cell_type": "code",
   "execution_count": 21,
   "id": "7a7cb0a4",
   "metadata": {},
   "outputs": [],
   "source": [
    "#y=x*TRUE_W + TRUE_B "
   ]
  },
  {
   "cell_type": "code",
   "execution_count": 22,
   "id": "ecb77287",
   "metadata": {},
   "outputs": [
    {
     "data": {
      "image/png": "[encoded data removed]",
      "text/plain": [
       "<Figure size 432x288 with 1 Axes>"
      ]
     },
     "metadata": {
      "needs_background": "light"
     },
     "output_type": "display_data"
    }
   ],
   "source": [
    "#plt.scatter(x,y,c=\"r\")\n",
    "#plt.show()"
   ]
  },
  {
   "cell_type": "markdown",
   "id": "ca166744",
   "metadata": {},
   "source": [
    "# Lets define the model"
   ]
  },
  {
   "cell_type": "code",
   "execution_count": 39,
   "id": "54001dec",
   "metadata": {},
   "outputs": [],
   "source": [
    "class MyModel(tf.Module):\n",
    "    def __init__(self, **kwargs):\n",
    "        super().__init__(**kwargs)\n",
    "        self.w=tf.Variable(5.0)\n",
    "        self.b=tf.Variable(0.0)\n",
    "    def __call__(self,x):\n",
    "        return self.w*x +self.b\n"
   ]
  },
  {
   "cell_type": "code",
   "execution_count": 40,
   "id": "47c61f6a",
   "metadata": {},
   "outputs": [],
   "source": [
    "model=MyModel()"
   ]
  },
  {
   "cell_type": "code",
   "execution_count": 41,
   "id": "496bad5e",
   "metadata": {},
   "outputs": [
    {
     "data": {
      "text/plain": [
       "<tf.Tensor: shape=(), dtype=float32, numpy=15.0>"
      ]
     },
     "execution_count": 41,
     "metadata": {},
     "output_type": "execute_result"
    }
   ],
   "source": [
    "model(3)"
   ]
  },
  {
   "cell_type": "code",
   "execution_count": 42,
   "id": "d1f241d8",
   "metadata": {},
   "outputs": [],
   "source": [
    "class Test:\n",
    "    def __init__(self,x):\n",
    "        self.x=x\n",
    "    def __call__(self):\n",
    "        return self.x**3"
   ]
  },
  {
   "cell_type": "code",
   "execution_count": 43,
   "id": "d3594460",
   "metadata": {},
   "outputs": [],
   "source": [
    "obj=Test(2)"
   ]
  },
  {
   "cell_type": "code",
   "execution_count": 44,
   "id": "e06293fd",
   "metadata": {},
   "outputs": [
    {
     "data": {
      "text/plain": [
       "<__main__.Test at 0x23721e46780>"
      ]
     },
     "execution_count": 44,
     "metadata": {},
     "output_type": "execute_result"
    }
   ],
   "source": [
    "obj"
   ]
  },
  {
   "cell_type": "code",
   "execution_count": 45,
   "id": "4ace10d5",
   "metadata": {},
   "outputs": [
    {
     "data": {
      "text/plain": [
       "8"
      ]
     },
     "execution_count": 45,
     "metadata": {},
     "output_type": "execute_result"
    }
   ],
   "source": [
    "obj()"
   ]
  },
  {
   "cell_type": "code",
   "execution_count": 46,
   "id": "5a9ba083",
   "metadata": {},
   "outputs": [],
   "source": [
    "model=MyModel()"
   ]
  },
  {
   "cell_type": "code",
   "execution_count": 47,
   "id": "d171341a",
   "metadata": {},
   "outputs": [
    {
     "data": {
      "text/plain": [
       "<tf.Tensor: shape=(), dtype=float32, numpy=15.0>"
      ]
     },
     "execution_count": 47,
     "metadata": {},
     "output_type": "execute_result"
    }
   ],
   "source": [
    "model(3)"
   ]
  },
  {
   "cell_type": "code",
   "execution_count": 48,
   "id": "1adaa7f5",
   "metadata": {},
   "outputs": [
    {
     "data": {
      "text/plain": [
       "<tf.Variable 'Variable:0' shape=() dtype=float32, numpy=5.0>"
      ]
     },
     "execution_count": 48,
     "metadata": {},
     "output_type": "execute_result"
    }
   ],
   "source": [
    "model.w"
   ]
  },
  {
   "cell_type": "code",
   "execution_count": 49,
   "id": "475d5359",
   "metadata": {},
   "outputs": [
    {
     "data": {
      "text/plain": [
       "<tf.Variable 'Variable:0' shape=() dtype=float32, numpy=0.0>"
      ]
     },
     "execution_count": 49,
     "metadata": {},
     "output_type": "execute_result"
    }
   ],
   "source": [
    "model.b"
   ]
  },
  {
   "cell_type": "code",
   "execution_count": 50,
   "id": "053587de",
   "metadata": {},
   "outputs": [
    {
     "data": {
      "text/plain": [
       "(<tf.Variable 'Variable:0' shape=() dtype=float32, numpy=0.0>,\n",
       " <tf.Variable 'Variable:0' shape=() dtype=float32, numpy=5.0>)"
      ]
     },
     "execution_count": 50,
     "metadata": {},
     "output_type": "execute_result"
    }
   ],
   "source": [
    "model.variables"
   ]
  },
  {
   "cell_type": "code",
   "execution_count": 51,
   "id": "9c76978e",
   "metadata": {},
   "outputs": [],
   "source": [
    "def MSE_loss(target_y, predicted_y):\n",
    "    error=target_y-predicted_y\n",
    "    squared_error=tf.square(error)\n",
    "    mse=tf.reduce_mean(squared_error)\n",
    "    return mse"
   ]
  },
  {
   "cell_type": "code",
   "execution_count": 52,
   "id": "5e80770b",
   "metadata": {},
   "outputs": [
    {
     "data": {
      "image/png": "[encoded data removed]",
      "text/plain": [
       "<Figure size 432x288 with 1 Axes>"
      ]
     },
     "metadata": {
      "needs_background": "light"
     },
     "output_type": "display_data"
    }
   ],
   "source": [
    "plt.scatter(x,y,c=\"b\")\n",
    "pred_y=model(x)# without train the model\n",
    "plt.scatter(x, pred_y, c=\"r\")\n",
    "plt.show()"
   ]
  },
  {
   "cell_type": "code",
   "execution_count": 53,
   "id": "faaa802a",
   "metadata": {},
   "outputs": [
    {
     "data": {
      "text/plain": [
       "9.163714"
      ]
     },
     "execution_count": 53,
     "metadata": {},
     "output_type": "execute_result"
    }
   ],
   "source": [
    "current_loss=MSE_loss(y, model(x))\n",
    "current_loss.numpy()"
   ]
  },
  {
   "cell_type": "markdown",
   "id": "22fdd1c9",
   "metadata": {},
   "source": [
    "# Lets define our training"
   ]
  },
  {
   "cell_type": "code",
   "execution_count": 54,
   "id": "cc52de81",
   "metadata": {},
   "outputs": [],
   "source": [
    "def train(model,x,y,learning_rate):\n",
    "    with tf.GradientTape() as tape:\n",
    "        current_loss=MSE_loss(y, model(x))\n",
    "    dc_dw,dc_db=tape.gradient(current_loss,[model.w,model.b])\n",
    "    model.w.assign_sub(learning_rate * dc_dw)\n",
    "    model.b.assign_sub(learning_rate * dc_db)"
   ]
  },
  {
   "cell_type": "code",
   "execution_count": 64,
   "id": "cea528a4",
   "metadata": {},
   "outputs": [
    {
     "name": "stdout",
     "output_type": "stream",
     "text": [
      "Initial W: 5.0, initial bias: 5.0, initial_loss: 9.163714408874512\n"
     ]
    }
   ],
   "source": [
    "model=MyModel()\n",
    "Ws,bs=[],[]\n",
    "epochs=15\n",
    "learning_rate=0.1\n",
    "w=model.w.numpy()\n",
    "b=model.w.numpy()\n",
    "init_loss=MSE_loss(y, model(x))\n",
    "print(f\"Initial W: {w}, initial bias: {b}, initial_loss: {init_loss}\")"
   ]
  },
  {
   "cell_type": "code",
   "execution_count": 65,
   "id": "b1ff3aca",
   "metadata": {},
   "outputs": [
    {
     "name": "stdout",
     "output_type": "stream",
     "text": [
      "For epoch: 0, W: 4.61293888092041, b: 0.4191268980503082, current_loss: 6.232854843139648\n",
      "For epoch: 1, W: 4.299434185028076, b: 0.7515870332717896, current_loss: 4.352369785308838\n",
      "For epoch: 2, W: 4.0454559326171875, b: 1.0152536630630493, current_loss: 3.1452832221984863\n",
      "For epoch: 3, W: 3.8396596908569336, b: 1.2243225574493408, current_loss: 2.370091199874878\n",
      "For epoch: 4, W: 3.6728713512420654, b: 1.3900668621063232, current_loss: 1.8720238208770752\n",
      "For epoch: 5, W: 3.5376698970794678, b: 1.5214378833770752, current_loss: 1.55185067653656\n",
      "For epoch: 6, W: 3.428051471710205, b: 1.625542163848877, current_loss: 1.345927357673645\n",
      "For epoch: 7, W: 3.3391575813293457, b: 1.7080209255218506, current_loss: 1.213414192199707\n",
      "For epoch: 8, W: 3.2670557498931885, b: 1.7733514308929443, current_loss: 1.1280937194824219\n",
      "For epoch: 9, W: 3.2085626125335693, b: 1.8250864744186401, current_loss: 1.0731276273727417\n",
      "For epoch: 10, W: 3.161100149154663, b: 1.8660451173782349, current_loss: 1.0376960039138794\n",
      "For epoch: 11, W: 3.1225807666778564, b: 1.8984636068344116, current_loss: 1.0148425102233887\n",
      "For epoch: 12, W: 3.091313362121582, b: 1.9241156578063965, current_loss: 1.000092625617981\n",
      "For epoch: 13, W: 3.065927743911743, b: 1.9444077014923096, current_loss: 0.9905669689178467\n",
      "For epoch: 14, W: 3.0453133583068848, b: 1.960455060005188, current_loss: 0.9844110012054443\n"
     ]
    }
   ],
   "source": [
    "for epoch in range(epochs):\n",
    "    train(model,x,y,learning_rate)\n",
    "    Ws.append(model.w.numpy())\n",
    "    bs.append(model.b.numpy())\n",
    "    current_loss=MSE_loss(y,model(x))\n",
    "    print(f\"For epoch: {epoch}, W: {Ws[-1]}, b: {bs[-1]}, current_loss: {current_loss}\")"
   ]
  },
  {
   "cell_type": "code",
   "execution_count": null,
   "id": "3a863ca8",
   "metadata": {},
   "outputs": [],
   "source": [
    "plt.plot(range(epochs), Ws, 'r', range(epochs), bs, \"b\")\n",
    "plt.plot([TRUE_W]*epochs, \"r--\", [TRUE_B]*epochs, \"b--\")"
   ]
  }
 ],
 "metadata": {
  "kernelspec": {
   "display_name": "Python 3 (ipykernel)",
   "language": "python",
   "name": "python3"
  },
  "language_info": {
   "codemirror_mode": {
    "name": "ipython",
    "version": 3
   },
   "file_extension": ".py",
   "mimetype": "text/x-python",
   "name": "python",
   "nbconvert_exporter": "python",
   "pygments_lexer": "ipython3",
   "version": "3.7.0"
  }
 },
 "nbformat": 4,
 "nbformat_minor": 5
}
